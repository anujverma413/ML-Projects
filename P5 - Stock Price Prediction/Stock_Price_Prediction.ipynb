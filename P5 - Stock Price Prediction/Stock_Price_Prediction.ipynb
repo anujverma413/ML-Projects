{
 "cells": [
  {
   "cell_type": "code",
   "execution_count": 1,
   "id": "46c1eec0",
   "metadata": {},
   "outputs": [],
   "source": [
    "import pandas as pd\n",
    "import numpy as np\n",
    "import matplotlib.pyplot as plt\n",
    "%matplotlib inline\n",
    "#%pip install pandas_datareader\n",
    "import pandas_datareader as pdr\n",
    "import tensorflow as tf"
   ]
  },
  {
   "cell_type": "code",
   "execution_count": 2,
   "id": "b44cba2f",
   "metadata": {},
   "outputs": [],
   "source": [
    "###### Data Collection ######"
   ]
  },
  {
   "cell_type": "code",
   "execution_count": 3,
   "id": "e2c69018",
   "metadata": {},
   "outputs": [],
   "source": [
    "key = '3a7c40955261a6e67c378fa1fb12cc9d7ad8bd3f'"
   ]
  },
  {
   "cell_type": "code",
   "execution_count": 4,
   "id": "36f5d8a8",
   "metadata": {},
   "outputs": [
    {
     "name": "stderr",
     "output_type": "stream",
     "text": [
      "C:\\Users\\Anuj Verma\\AppData\\Roaming\\Python\\Python39\\site-packages\\pandas_datareader\\tiingo.py:234: FutureWarning: In a future version of pandas all arguments of concat except for the argument 'objs' will be keyword-only.\n",
      "  return pd.concat(dfs, self._concat_axis)\n"
     ]
    }
   ],
   "source": [
    "df1 = pdr.get_data_tiingo('TTM', api_key = key)   # TTM for TATA MOTORS LTD"
   ]
  },
  {
   "cell_type": "code",
   "execution_count": 5,
   "id": "b75f0efb",
   "metadata": {},
   "outputs": [],
   "source": [
    "df1.to_csv('TTM.csv')"
   ]
  },
  {
   "cell_type": "code",
   "execution_count": 6,
   "id": "af767c93",
   "metadata": {},
   "outputs": [],
   "source": [
    "df2 = pd.read_csv('TTM.csv')"
   ]
  },
  {
   "cell_type": "code",
   "execution_count": 7,
   "id": "7eb28544",
   "metadata": {},
   "outputs": [
    {
     "data": {
      "text/html": [
       "<div>\n",
       "<style scoped>\n",
       "    .dataframe tbody tr th:only-of-type {\n",
       "        vertical-align: middle;\n",
       "    }\n",
       "\n",
       "    .dataframe tbody tr th {\n",
       "        vertical-align: top;\n",
       "    }\n",
       "\n",
       "    .dataframe thead th {\n",
       "        text-align: right;\n",
       "    }\n",
       "</style>\n",
       "<table border=\"1\" class=\"dataframe\">\n",
       "  <thead>\n",
       "    <tr style=\"text-align: right;\">\n",
       "      <th></th>\n",
       "      <th>symbol</th>\n",
       "      <th>date</th>\n",
       "      <th>close</th>\n",
       "      <th>high</th>\n",
       "      <th>low</th>\n",
       "      <th>open</th>\n",
       "      <th>volume</th>\n",
       "      <th>adjClose</th>\n",
       "      <th>adjHigh</th>\n",
       "      <th>adjLow</th>\n",
       "      <th>adjOpen</th>\n",
       "      <th>adjVolume</th>\n",
       "      <th>divCash</th>\n",
       "      <th>splitFactor</th>\n",
       "    </tr>\n",
       "  </thead>\n",
       "  <tbody>\n",
       "    <tr>\n",
       "      <th>0</th>\n",
       "      <td>TTM</td>\n",
       "      <td>2017-11-17 00:00:00+00:00</td>\n",
       "      <td>32.48</td>\n",
       "      <td>32.65</td>\n",
       "      <td>32.06</td>\n",
       "      <td>32.08</td>\n",
       "      <td>1205655</td>\n",
       "      <td>32.48</td>\n",
       "      <td>32.65</td>\n",
       "      <td>32.06</td>\n",
       "      <td>32.08</td>\n",
       "      <td>1205655</td>\n",
       "      <td>0.0</td>\n",
       "      <td>1.0</td>\n",
       "    </tr>\n",
       "    <tr>\n",
       "      <th>1</th>\n",
       "      <td>TTM</td>\n",
       "      <td>2017-11-20 00:00:00+00:00</td>\n",
       "      <td>32.36</td>\n",
       "      <td>32.50</td>\n",
       "      <td>32.14</td>\n",
       "      <td>32.47</td>\n",
       "      <td>670426</td>\n",
       "      <td>32.36</td>\n",
       "      <td>32.50</td>\n",
       "      <td>32.14</td>\n",
       "      <td>32.47</td>\n",
       "      <td>670426</td>\n",
       "      <td>0.0</td>\n",
       "      <td>1.0</td>\n",
       "    </tr>\n",
       "    <tr>\n",
       "      <th>2</th>\n",
       "      <td>TTM</td>\n",
       "      <td>2017-11-21 00:00:00+00:00</td>\n",
       "      <td>32.72</td>\n",
       "      <td>32.81</td>\n",
       "      <td>32.45</td>\n",
       "      <td>32.50</td>\n",
       "      <td>601697</td>\n",
       "      <td>32.72</td>\n",
       "      <td>32.81</td>\n",
       "      <td>32.45</td>\n",
       "      <td>32.50</td>\n",
       "      <td>601697</td>\n",
       "      <td>0.0</td>\n",
       "      <td>1.0</td>\n",
       "    </tr>\n",
       "    <tr>\n",
       "      <th>3</th>\n",
       "      <td>TTM</td>\n",
       "      <td>2017-11-22 00:00:00+00:00</td>\n",
       "      <td>32.89</td>\n",
       "      <td>32.99</td>\n",
       "      <td>32.80</td>\n",
       "      <td>32.81</td>\n",
       "      <td>617698</td>\n",
       "      <td>32.89</td>\n",
       "      <td>32.99</td>\n",
       "      <td>32.80</td>\n",
       "      <td>32.81</td>\n",
       "      <td>617698</td>\n",
       "      <td>0.0</td>\n",
       "      <td>1.0</td>\n",
       "    </tr>\n",
       "    <tr>\n",
       "      <th>4</th>\n",
       "      <td>TTM</td>\n",
       "      <td>2017-11-24 00:00:00+00:00</td>\n",
       "      <td>32.74</td>\n",
       "      <td>32.92</td>\n",
       "      <td>32.56</td>\n",
       "      <td>32.90</td>\n",
       "      <td>504454</td>\n",
       "      <td>32.74</td>\n",
       "      <td>32.92</td>\n",
       "      <td>32.56</td>\n",
       "      <td>32.90</td>\n",
       "      <td>504454</td>\n",
       "      <td>0.0</td>\n",
       "      <td>1.0</td>\n",
       "    </tr>\n",
       "  </tbody>\n",
       "</table>\n",
       "</div>"
      ],
      "text/plain": [
       "  symbol                       date  close   high    low   open   volume  \\\n",
       "0    TTM  2017-11-17 00:00:00+00:00  32.48  32.65  32.06  32.08  1205655   \n",
       "1    TTM  2017-11-20 00:00:00+00:00  32.36  32.50  32.14  32.47   670426   \n",
       "2    TTM  2017-11-21 00:00:00+00:00  32.72  32.81  32.45  32.50   601697   \n",
       "3    TTM  2017-11-22 00:00:00+00:00  32.89  32.99  32.80  32.81   617698   \n",
       "4    TTM  2017-11-24 00:00:00+00:00  32.74  32.92  32.56  32.90   504454   \n",
       "\n",
       "   adjClose  adjHigh  adjLow  adjOpen  adjVolume  divCash  splitFactor  \n",
       "0     32.48    32.65   32.06    32.08    1205655      0.0          1.0  \n",
       "1     32.36    32.50   32.14    32.47     670426      0.0          1.0  \n",
       "2     32.72    32.81   32.45    32.50     601697      0.0          1.0  \n",
       "3     32.89    32.99   32.80    32.81     617698      0.0          1.0  \n",
       "4     32.74    32.92   32.56    32.90     504454      0.0          1.0  "
      ]
     },
     "execution_count": 7,
     "metadata": {},
     "output_type": "execute_result"
    }
   ],
   "source": [
    "df2.head()"
   ]
  },
  {
   "cell_type": "code",
   "execution_count": 8,
   "id": "ba54c071",
   "metadata": {},
   "outputs": [
    {
     "data": {
      "text/html": [
       "<div>\n",
       "<style scoped>\n",
       "    .dataframe tbody tr th:only-of-type {\n",
       "        vertical-align: middle;\n",
       "    }\n",
       "\n",
       "    .dataframe tbody tr th {\n",
       "        vertical-align: top;\n",
       "    }\n",
       "\n",
       "    .dataframe thead th {\n",
       "        text-align: right;\n",
       "    }\n",
       "</style>\n",
       "<table border=\"1\" class=\"dataframe\">\n",
       "  <thead>\n",
       "    <tr style=\"text-align: right;\">\n",
       "      <th></th>\n",
       "      <th>symbol</th>\n",
       "      <th>date</th>\n",
       "      <th>close</th>\n",
       "      <th>high</th>\n",
       "      <th>low</th>\n",
       "      <th>open</th>\n",
       "      <th>volume</th>\n",
       "      <th>adjClose</th>\n",
       "      <th>adjHigh</th>\n",
       "      <th>adjLow</th>\n",
       "      <th>adjOpen</th>\n",
       "      <th>adjVolume</th>\n",
       "      <th>divCash</th>\n",
       "      <th>splitFactor</th>\n",
       "    </tr>\n",
       "  </thead>\n",
       "  <tbody>\n",
       "    <tr>\n",
       "      <th>1252</th>\n",
       "      <td>TTM</td>\n",
       "      <td>2022-11-09 00:00:00+00:00</td>\n",
       "      <td>26.40</td>\n",
       "      <td>26.55</td>\n",
       "      <td>25.79</td>\n",
       "      <td>25.86</td>\n",
       "      <td>1261624</td>\n",
       "      <td>26.40</td>\n",
       "      <td>26.55</td>\n",
       "      <td>25.79</td>\n",
       "      <td>25.86</td>\n",
       "      <td>1261624</td>\n",
       "      <td>0.0</td>\n",
       "      <td>1.0</td>\n",
       "    </tr>\n",
       "    <tr>\n",
       "      <th>1253</th>\n",
       "      <td>TTM</td>\n",
       "      <td>2022-11-10 00:00:00+00:00</td>\n",
       "      <td>26.33</td>\n",
       "      <td>26.73</td>\n",
       "      <td>25.81</td>\n",
       "      <td>26.18</td>\n",
       "      <td>989653</td>\n",
       "      <td>26.33</td>\n",
       "      <td>26.73</td>\n",
       "      <td>25.81</td>\n",
       "      <td>26.18</td>\n",
       "      <td>989653</td>\n",
       "      <td>0.0</td>\n",
       "      <td>1.0</td>\n",
       "    </tr>\n",
       "    <tr>\n",
       "      <th>1254</th>\n",
       "      <td>TTM</td>\n",
       "      <td>2022-11-11 00:00:00+00:00</td>\n",
       "      <td>26.56</td>\n",
       "      <td>26.64</td>\n",
       "      <td>26.30</td>\n",
       "      <td>26.30</td>\n",
       "      <td>968771</td>\n",
       "      <td>26.56</td>\n",
       "      <td>26.64</td>\n",
       "      <td>26.30</td>\n",
       "      <td>26.30</td>\n",
       "      <td>968771</td>\n",
       "      <td>0.0</td>\n",
       "      <td>1.0</td>\n",
       "    </tr>\n",
       "    <tr>\n",
       "      <th>1255</th>\n",
       "      <td>TTM</td>\n",
       "      <td>2022-11-14 00:00:00+00:00</td>\n",
       "      <td>27.10</td>\n",
       "      <td>27.22</td>\n",
       "      <td>26.63</td>\n",
       "      <td>26.87</td>\n",
       "      <td>1197524</td>\n",
       "      <td>27.10</td>\n",
       "      <td>27.22</td>\n",
       "      <td>26.63</td>\n",
       "      <td>26.87</td>\n",
       "      <td>1197524</td>\n",
       "      <td>0.0</td>\n",
       "      <td>1.0</td>\n",
       "    </tr>\n",
       "    <tr>\n",
       "      <th>1256</th>\n",
       "      <td>TTM</td>\n",
       "      <td>2022-11-15 00:00:00+00:00</td>\n",
       "      <td>27.03</td>\n",
       "      <td>27.50</td>\n",
       "      <td>26.93</td>\n",
       "      <td>27.28</td>\n",
       "      <td>969017</td>\n",
       "      <td>27.03</td>\n",
       "      <td>27.50</td>\n",
       "      <td>26.93</td>\n",
       "      <td>27.28</td>\n",
       "      <td>969017</td>\n",
       "      <td>0.0</td>\n",
       "      <td>1.0</td>\n",
       "    </tr>\n",
       "  </tbody>\n",
       "</table>\n",
       "</div>"
      ],
      "text/plain": [
       "     symbol                       date  close   high    low   open   volume  \\\n",
       "1252    TTM  2022-11-09 00:00:00+00:00  26.40  26.55  25.79  25.86  1261624   \n",
       "1253    TTM  2022-11-10 00:00:00+00:00  26.33  26.73  25.81  26.18   989653   \n",
       "1254    TTM  2022-11-11 00:00:00+00:00  26.56  26.64  26.30  26.30   968771   \n",
       "1255    TTM  2022-11-14 00:00:00+00:00  27.10  27.22  26.63  26.87  1197524   \n",
       "1256    TTM  2022-11-15 00:00:00+00:00  27.03  27.50  26.93  27.28   969017   \n",
       "\n",
       "      adjClose  adjHigh  adjLow  adjOpen  adjVolume  divCash  splitFactor  \n",
       "1252     26.40    26.55   25.79    25.86    1261624      0.0          1.0  \n",
       "1253     26.33    26.73   25.81    26.18     989653      0.0          1.0  \n",
       "1254     26.56    26.64   26.30    26.30     968771      0.0          1.0  \n",
       "1255     27.10    27.22   26.63    26.87    1197524      0.0          1.0  \n",
       "1256     27.03    27.50   26.93    27.28     969017      0.0          1.0  "
      ]
     },
     "execution_count": 8,
     "metadata": {},
     "output_type": "execute_result"
    }
   ],
   "source": [
    "df2.tail()"
   ]
  },
  {
   "cell_type": "code",
   "execution_count": 9,
   "id": "4e54b3ff",
   "metadata": {},
   "outputs": [],
   "source": [
    "df3 = df2.reset_index()['close']"
   ]
  },
  {
   "cell_type": "code",
   "execution_count": 10,
   "id": "f628892e",
   "metadata": {},
   "outputs": [
    {
     "data": {
      "text/plain": [
       "(1257,)"
      ]
     },
     "execution_count": 10,
     "metadata": {},
     "output_type": "execute_result"
    }
   ],
   "source": [
    "df3.shape"
   ]
  },
  {
   "cell_type": "code",
   "execution_count": 11,
   "id": "905056c3",
   "metadata": {},
   "outputs": [
    {
     "data": {
      "text/plain": [
       "0       32.48\n",
       "1       32.36\n",
       "2       32.72\n",
       "3       32.89\n",
       "4       32.74\n",
       "        ...  \n",
       "1252    26.40\n",
       "1253    26.33\n",
       "1254    26.56\n",
       "1255    27.10\n",
       "1256    27.03\n",
       "Name: close, Length: 1257, dtype: float64"
      ]
     },
     "execution_count": 11,
     "metadata": {},
     "output_type": "execute_result"
    }
   ],
   "source": [
    "df3"
   ]
  },
  {
   "cell_type": "code",
   "execution_count": 12,
   "id": "d8daff25",
   "metadata": {
    "scrolled": true
   },
   "outputs": [
    {
     "data": {
      "text/plain": [
       "[<matplotlib.lines.Line2D at 0x11acb36b550>]"
      ]
     },
     "execution_count": 12,
     "metadata": {},
     "output_type": "execute_result"
    },
    {
     "data": {
      "image/png": "[encoded data removed]",
      "text/plain": [
       "<Figure size 640x480 with 1 Axes>"
      ]
     },
     "metadata": {},
     "output_type": "display_data"
    }
   ],
   "source": [
    "plt.plot(df3)"
   ]
  },
  {
   "cell_type": "code",
   "execution_count": 13,
   "id": "5931f3c6",
   "metadata": {},
   "outputs": [],
   "source": [
    "###### Data Processing ######"
   ]
  },
  {
   "cell_type": "code",
   "execution_count": 14,
   "id": "8157a527",
   "metadata": {},
   "outputs": [],
   "source": [
    "from sklearn.preprocessing import MinMaxScaler\n",
    "scaler = MinMaxScaler(feature_range = (0,1))\n",
    "df4 = scaler.fit_transform(np.array(df3).reshape(-1,1))"
   ]
  },
  {
   "cell_type": "code",
   "execution_count": 15,
   "id": "b95cb45d",
   "metadata": {},
   "outputs": [
    {
     "data": {
      "text/plain": [
       "array([[0.92028516],\n",
       "       [0.91639663],\n",
       "       [0.92806222],\n",
       "       ...,\n",
       "       [0.72845107],\n",
       "       [0.74594945],\n",
       "       [0.74368114]])"
      ]
     },
     "execution_count": 15,
     "metadata": {},
     "output_type": "execute_result"
    }
   ],
   "source": [
    "df4"
   ]
  },
  {
   "cell_type": "code",
   "execution_count": 16,
   "id": "1130243e",
   "metadata": {},
   "outputs": [
    {
     "data": {
      "text/plain": [
       "(879, 378)"
      ]
     },
     "execution_count": 16,
     "metadata": {},
     "output_type": "execute_result"
    }
   ],
   "source": [
    "training_size = int(len(df4)*0.70)\n",
    "test_size = len(df4) - training_size\n",
    "training_size, test_size"
   ]
  },
  {
   "cell_type": "code",
   "execution_count": 17,
   "id": "ae3fbc84",
   "metadata": {},
   "outputs": [
    {
     "data": {
      "text/plain": [
       "(879, 378)"
      ]
     },
     "execution_count": 17,
     "metadata": {},
     "output_type": "execute_result"
    }
   ],
   "source": [
    "train_data, test_data = df4[0:training_size, :], df4[training_size:len(df1),:1]\n",
    "len(train_data), len(test_data)"
   ]
  },
  {
   "cell_type": "code",
   "execution_count": 18,
   "id": "bda4f89c",
   "metadata": {},
   "outputs": [],
   "source": [
    "def create_model_data (model_data, time_step):\n",
    "    dataX, dataY = [],[]\n",
    "    for i in range(len(model_data) - time_step - 1):\n",
    "        a = model_data[i:(i+time_step), 0]\n",
    "        dataX.append(a)\n",
    "        dataY.append(model_data[i+time_step, 0])\n",
    "    return np.array(dataX), np.array(dataY)"
   ]
  },
  {
   "cell_type": "code",
   "execution_count": 19,
   "id": "d8668418",
   "metadata": {},
   "outputs": [],
   "source": [
    "time_step = 100\n",
    "X_train, y_train = create_model_data(train_data, time_step)\n",
    "X_test, y_test = create_model_data(test_data, time_step)"
   ]
  },
  {
   "cell_type": "code",
   "execution_count": 20,
   "id": "e0bf1fd6",
   "metadata": {},
   "outputs": [
    {
     "data": {
      "text/plain": [
       "((778, 100), (778,), (277, 100), (277,))"
      ]
     },
     "execution_count": 20,
     "metadata": {},
     "output_type": "execute_result"
    }
   ],
   "source": [
    "X_train.shape, y_train.shape, X_test.shape, y_test.shape"
   ]
  },
  {
   "cell_type": "code",
   "execution_count": 21,
   "id": "bbaa8454",
   "metadata": {},
   "outputs": [
    {
     "data": {
      "text/plain": [
       "array([[0.92028516, 0.91639663, 0.92806222, ..., 0.74886585, 0.74821776,\n",
       "        0.73363577],\n",
       "       [0.91639663, 0.92806222, 0.93357097, ..., 0.74821776, 0.73363577,\n",
       "        0.71516526],\n",
       "       [0.92806222, 0.93357097, 0.9287103 , ..., 0.73363577, 0.71516526,\n",
       "        0.70025924],\n",
       "       ...,\n",
       "       [0.26668827, 0.2624757 , 0.23039533, ..., 0.54990279, 0.55962411,\n",
       "        0.56124433],\n",
       "       [0.2624757 , 0.23039533, 0.22618276, ..., 0.55962411, 0.56124433,\n",
       "        0.56966948],\n",
       "       [0.23039533, 0.22618276, 0.24530136, ..., 0.56124433, 0.56966948,\n",
       "        0.55605962]])"
      ]
     },
     "execution_count": 21,
     "metadata": {},
     "output_type": "execute_result"
    }
   ],
   "source": [
    "X_train"
   ]
  },
  {
   "cell_type": "code",
   "execution_count": 22,
   "id": "5792420b",
   "metadata": {},
   "outputs": [
    {
     "data": {
      "text/plain": [
       "array([0.71516526, 0.70025924, 0.69637071, 0.68211277, 0.67303953,\n",
       "       0.67303953, 0.66623461, 0.65716137, 0.66720674, 0.67854828,\n",
       "       0.68178872, 0.69086196, 0.6801685 , 0.669151  , 0.67984446,\n",
       "       0.67757615, 0.66850292, 0.68114064, 0.66558652, 0.65521711,\n",
       "       0.63771873, 0.60304601, 0.61017498, 0.61373947, 0.59105638,\n",
       "       0.58165911, 0.61017498, 0.59332469, 0.55119896, 0.55832793,\n",
       "       0.55411536, 0.55119896, 0.54439404, 0.56189242, 0.55670771,\n",
       "       0.55962411, 0.58587168, 0.59138043, 0.60207388, 0.60563837,\n",
       "       0.60628645, 0.60012962, 0.59105638, 0.58554763, 0.60174984,\n",
       "       0.5845755 , 0.5926766 , 0.58684381, 0.58878808, 0.54374595,\n",
       "       0.52365522, 0.5029164 , 0.49157485, 0.50129618, 0.50939728,\n",
       "       0.50486066, 0.49416721, 0.51231367, 0.51847051, 0.52138691,\n",
       "       0.49837978, 0.49967596, 0.49027868, 0.46727155, 0.47926118,\n",
       "       0.4669475 , 0.46403111, 0.46370706, 0.47018795, 0.47634478,\n",
       "       0.4889825 , 0.47504861, 0.49157485, 0.49611147, 0.45755023,\n",
       "       0.48476993, 0.48347375, 0.47861309, 0.47051199, 0.45981854,\n",
       "       0.4669475 , 0.46500324, 0.44685677, 0.43227479, 0.43259883,\n",
       "       0.42449773, 0.44296824, 0.46305898, 0.48671419, 0.48865846,\n",
       "       0.48185353, 0.45690214, 0.46241089, 0.4727803 , 0.4698639 ,\n",
       "       0.46727155, 0.45268957, 0.46889177, 0.46079067, 0.4646792 ,\n",
       "       0.46565133, 0.47828905, 0.47602074, 0.4617628 , 0.46143876,\n",
       "       0.45917045, 0.45236552, 0.44037589, 0.43519119, 0.44523655,\n",
       "       0.4455606 , 0.42320156, 0.40375891, 0.4014906 , 0.39176928,\n",
       "       0.37265068, 0.36552171, 0.37232664, 0.37070642, 0.3661698 ,\n",
       "       0.35158782, 0.33830201, 0.3331173 , 0.28191834, 0.2624757 ,\n",
       "       0.25923526, 0.26863253, 0.27187297, 0.27770577, 0.25858717,\n",
       "       0.2514582 , 0.25307842, 0.24400518, 0.25243033, 0.23687622,\n",
       "       0.24594945, 0.2433571 , 0.25405055, 0.2595593 , 0.26344783,\n",
       "       0.27770577, 0.28127025, 0.286779  , 0.28937135, 0.2948801 ,\n",
       "       0.29066753, 0.2926118 , 0.26053143, 0.2624757 , 0.26506805,\n",
       "       0.27511342, 0.27478937, 0.28224238, 0.27673364, 0.2896954 ,\n",
       "       0.28548283, 0.28418665, 0.27802981, 0.27316915, 0.27187297,\n",
       "       0.26312378, 0.26960467, 0.2595593 , 0.23914452, 0.23266364,\n",
       "       0.21354504, 0.21775762, 0.24076474, 0.24303305, 0.24141283,\n",
       "       0.2566429 , 0.26506805, 0.25405055, 0.2705768 , 0.26863253,\n",
       "       0.25891121, 0.26668827, 0.25923526, 0.26668827, 0.2624757 ,\n",
       "       0.25858717, 0.24724563, 0.27414128, 0.28094621, 0.28775113,\n",
       "       0.29520415, 0.30103694, 0.28418665, 0.28094621, 0.28872327,\n",
       "       0.29131562, 0.28839922, 0.28775113, 0.27219702, 0.27738172,\n",
       "       0.26506805, 0.26863253, 0.26344783, 0.26733636, 0.27543746,\n",
       "       0.29131562, 0.28580687, 0.27673364, 0.26701231, 0.2757615 ,\n",
       "       0.23720026, 0.20836034, 0.21160078, 0.21872975, 0.2242385 ,\n",
       "       0.23169151, 0.23266364, 0.24270901, 0.24918989, 0.25016202,\n",
       "       0.26928062, 0.26992871, 0.28418665, 0.26863253, 0.27284511,\n",
       "       0.29034349, 0.28613091, 0.31205444, 0.30751782, 0.29876863,\n",
       "       0.28580687, 0.29196371, 0.29390797, 0.29228775, 0.28548283,\n",
       "       0.28613091, 0.29520415, 0.29617628, 0.29099157, 0.2926118 ,\n",
       "       0.27025275, 0.26571614, 0.27414128, 0.26215165, 0.26571614,\n",
       "       0.27478937, 0.31659106, 0.33473752, 0.34348671, 0.35385612,\n",
       "       0.3522359 , 0.33765392, 0.34607907, 0.37848347, 0.37297472,\n",
       "       0.38431627, 0.39954634, 0.39727803, 0.40861957, 0.42190538,\n",
       "       0.41023979, 0.40181465, 0.38107583, 0.37556708, 0.37556708,\n",
       "       0.37329877, 0.36681789, 0.35839274, 0.35061568, 0.3580687 ,\n",
       "       0.33927414, 0.30784187, 0.30233312, 0.3007129 , 0.3058976 ,\n",
       "       0.28062216, 0.2926118 , 0.27673364, 0.27705768, 0.26960467,\n",
       "       0.29228775, 0.28289047, 0.27511342, 0.27414128, 0.28742709,\n",
       "       0.27932599, 0.2786779 , 0.27965003, 0.27316915, 0.2786779 ,\n",
       "       0.2786779 , 0.27284511, 0.26571614, 0.26604018, 0.25081011,\n",
       "       0.26798445, 0.25826312, 0.25502268, 0.2433571 , 0.23622813,\n",
       "       0.24692158, 0.23104342, 0.24011666, 0.23817239, 0.23687622,\n",
       "       0.23849644, 0.24432923, 0.25405055, 0.24627349, 0.25923526,\n",
       "       0.24951393, 0.24918989, 0.24497732, 0.23136747, 0.2323396 ,\n",
       "       0.22877511, 0.23525599, 0.24270901, 0.24562541, 0.2624757 ,\n",
       "       0.25826312, 0.24627349, 0.23331173, 0.23104342, 0.23266364,\n",
       "       0.22456254, 0.21127673, 0.2103046 , 0.18988983, 0.18178872,\n",
       "       0.18243681, 0.16720674, 0.16591056, 0.14938432, 0.1448477 ,\n",
       "       0.13771873, 0.15132858, 0.14517174, 0.14225535, 0.14744005,\n",
       "       0.1367466 , 0.13609851, 0.14517174, 0.13933895, 0.14225535,\n",
       "       0.12216461, 0.11438756, 0.11795204, 0.12216461, 0.14095917,\n",
       "       0.13480233, 0.12896954, 0.13415424, 0.12184057, 0.117628  ,\n",
       "       0.13933895, 0.14387557, 0.15262476, 0.15716137, 0.17530784,\n",
       "       0.16202203, 0.16461439, 0.15813351, 0.14906027, 0.14808814,\n",
       "       0.15262476, 0.17692806, 0.16623461, 0.16007777, 0.15230071,\n",
       "       0.14808814, 0.1419313 , 0.13966299, 0.13123785, 0.12961763,\n",
       "       0.14679196, 0.14257939, 0.13642255, 0.1309138 , 0.13998704,\n",
       "       0.13836682, 0.15100454, 0.15618924, 0.16072586, 0.15748542,\n",
       "       0.17984446, 0.17919637, 0.17595593, 0.16817887, 0.17012314,\n",
       "       0.16817887, 0.20771225, 0.21160078, 0.26344783, 0.25502268,\n",
       "       0.25923526, 0.26895658, 0.2676604 , 0.26215165, 0.2624757 ,\n",
       "       0.26053143, 0.25210629, 0.25858717, 0.25729099, 0.24756967,\n",
       "       0.24141283, 0.25210629, 0.25113415, 0.24400518, 0.24108879,\n",
       "       0.23655217, 0.22974725, 0.24173688, 0.23363577, 0.24270901,\n",
       "       0.23136747, 0.23136747, 0.22229423, 0.25178224, 0.24303305,\n",
       "       0.23622813, 0.23363577, 0.23071938, 0.23558004, 0.2676604 ,\n",
       "       0.26830849, 0.26928062, 0.2815943 , 0.27187297, 0.27608555,\n",
       "       0.27252106, 0.27252106, 0.26701231, 0.26830849, 0.26701231,\n",
       "       0.2815943 , 0.286779  , 0.3058976 , 0.2948801 , 0.29001944,\n",
       "       0.28321452, 0.28451069, 0.29974076, 0.308814  , 0.31237848,\n",
       "       0.31335062, 0.3198315 , 0.31561892, 0.31659106, 0.29876863,\n",
       "       0.28872327, 0.29293584, 0.28710305, 0.27900194, 0.27414128,\n",
       "       0.2926118 , 0.29196371, 0.26085548, 0.24627349, 0.24789371,\n",
       "       0.27738172, 0.26830849, 0.25372651, 0.25048607, 0.25696695,\n",
       "       0.25761504, 0.25113415, 0.24724563, 0.23104342, 0.22812703,\n",
       "       0.22585872, 0.22034997, 0.20252754, 0.19377835, 0.19377835,\n",
       "       0.18276086, 0.16461439, 0.15813351, 0.14938432, 0.14549579,\n",
       "       0.12767336, 0.11957226, 0.08522359, 0.10110175, 0.07679844,\n",
       "       0.03920933, 0.06513286, 0.03240441, 0.03985742, 0.02689566,\n",
       "       0.02268308, 0.02073882, 0.0081011 , 0.02041478, 0.02462735,\n",
       "       0.03143227, 0.01685029, 0.01523007, 0.02073882, 0.00097213,\n",
       "       0.00129618, 0.        , 0.01555412, 0.00842515, 0.01717434,\n",
       "       0.03434867, 0.02527544, 0.03110823, 0.01976669, 0.02754375,\n",
       "       0.03370058, 0.03337654, 0.02009073, 0.0301361 , 0.0301361 ,\n",
       "       0.02559948, 0.02981205, 0.03240441, 0.05832793, 0.05962411,\n",
       "       0.0492547 , 0.04957874, 0.04504213, 0.04244977, 0.04601426,\n",
       "       0.04763448, 0.0573558 , 0.06351264, 0.04763448, 0.05119896,\n",
       "       0.04536617, 0.04860661, 0.04018146, 0.0463383 , 0.04828257,\n",
       "       0.04471808, 0.04957874, 0.05605962, 0.05411536, 0.05281918,\n",
       "       0.06416073, 0.08198315, 0.08846403, 0.08425146, 0.10920285,\n",
       "       0.12054439, 0.10499028, 0.10142579, 0.08003889, 0.09462087,\n",
       "       0.08522359, 0.07226183, 0.0683733 , 0.07420609, 0.08133506,\n",
       "       0.08781594, 0.09105638, 0.08522359, 0.09300065, 0.08165911,\n",
       "       0.08522359, 0.08068697, 0.08425146, 0.0904083 , 0.1117952 ,\n",
       "       0.10499028, 0.09656513, 0.10207388, 0.10596241, 0.09753727,\n",
       "       0.09526896, 0.09526896, 0.09170447, 0.09300065, 0.0985094 ,\n",
       "       0.10596241, 0.09915749, 0.09462087, 0.0904083 , 0.08781594,\n",
       "       0.10239793, 0.0985094 , 0.095593  , 0.08878808, 0.10920285,\n",
       "       0.11211925, 0.12119248, 0.12216461, 0.12443292, 0.1338302 ,\n",
       "       0.13026572, 0.13933895, 0.15035645, 0.13577447, 0.1338302 ,\n",
       "       0.13966299, 0.13771873, 0.13415424, 0.1309138 , 0.13480233,\n",
       "       0.14873623, 0.18049255, 0.18049255, 0.18438108, 0.18340894,\n",
       "       0.18438108, 0.19507453, 0.191186  , 0.19507453, 0.17984446,\n",
       "       0.18114064, 0.17790019, 0.18243681, 0.1941024 , 0.19475049,\n",
       "       0.20058328, 0.19183409, 0.18794556, 0.17012314, 0.16299417,\n",
       "       0.15100454, 0.14095917, 0.14808814, 0.15878159, 0.15521711,\n",
       "       0.16234608, 0.16429034, 0.16169799, 0.16591056, 0.18211277,\n",
       "       0.1830849 , 0.18114064, 0.17822424, 0.17044718, 0.16202203,\n",
       "       0.15683733, 0.15327285, 0.1529488 , 0.14679196, 0.15683733,\n",
       "       0.15424498, 0.16331821, 0.16979909, 0.16137395, 0.1749838 ,\n",
       "       0.15456902, 0.15716137, 0.15197667, 0.16202203, 0.16882696,\n",
       "       0.16850292, 0.17563189, 0.17530784, 0.19831497, 0.19280622,\n",
       "       0.19863901, 0.1941024 , 0.19280622, 0.20771225, 0.22099806,\n",
       "       0.24465327, 0.24303305, 0.23363577, 0.23914452, 0.24692158,\n",
       "       0.24951393, 0.26895658, 0.25469864, 0.27511342, 0.27738172,\n",
       "       0.27802981, 0.27316915, 0.2734932 , 0.27122489, 0.26895658,\n",
       "       0.25631886, 0.26053143, 0.25631886, 0.2676604 , 0.27511342,\n",
       "       0.26668827, 0.2624757 , 0.23039533, 0.22618276, 0.24530136,\n",
       "       0.25016202, 0.27284511, 0.26830849, 0.27608555, 0.27608555,\n",
       "       0.28127025, 0.29876863, 0.30006481, 0.30362929, 0.31075826,\n",
       "       0.38302009, 0.40408296, 0.39500972, 0.41510045, 0.43681141,\n",
       "       0.44069994, 0.48152949, 0.51782242, 0.50194426, 0.46889177,\n",
       "       0.46565133, 0.44523655, 0.46921581, 0.44491251, 0.50032404,\n",
       "       0.58619572, 0.60077771, 0.59073234, 0.56578095, 0.62508101,\n",
       "       0.59364874, 0.58846403, 0.58878808, 0.59948153, 0.5874919 ,\n",
       "       0.59235256, 0.5764744 , 0.56221646, 0.54698639, 0.57841866,\n",
       "       0.58489955, 0.5845755 , 0.58036293, 0.59915749, 0.62443292,\n",
       "       0.62670123, 0.59688918, 0.59105638, 0.56999352, 0.57226183,\n",
       "       0.57777058, 0.59591704, 0.57971484, 0.57712249, 0.57453014,\n",
       "       0.55897602, 0.53888529, 0.55541154, 0.54601426, 0.53758911,\n",
       "       0.51328581, 0.51069345, 0.52883992, 0.52786779, 0.53272845,\n",
       "       0.54147764, 0.5492547 , 0.54601426, 0.54309786, 0.53046014,\n",
       "       0.5463383 , 0.55605962, 0.46921581, 0.50486066, 0.51749838,\n",
       "       0.52138691, 0.53240441, 0.51652625, 0.49384316, 0.50388853,\n",
       "       0.48995463, 0.50615684, 0.50972132, 0.52333117, 0.52981205,\n",
       "       0.5191186 , 0.49481529, 0.50486066, 0.49837978, 0.50648088,\n",
       "       0.52851588, 0.53467272, 0.54990279, 0.55962411, 0.56124433,\n",
       "       0.56966948, 0.55605962, 0.57744653])"
      ]
     },
     "execution_count": 22,
     "metadata": {},
     "output_type": "execute_result"
    }
   ],
   "source": [
    "y_train"
   ]
  },
  {
   "cell_type": "code",
   "execution_count": 23,
   "id": "d7e4cc1c",
   "metadata": {},
   "outputs": [],
   "source": [
    "# Make the data 3-dimensional for input as a LSTM model\n",
    "X_train = X_train.reshape(X_train.shape[0], X_train.shape[1], 1)\n",
    "X_test = X_test.reshape(X_test.shape[0], X_test.shape[1], 1)"
   ]
  },
  {
   "cell_type": "code",
   "execution_count": 24,
   "id": "bb0943a2",
   "metadata": {},
   "outputs": [],
   "source": [
    "##### Model Building ######"
   ]
  },
  {
   "cell_type": "code",
   "execution_count": 25,
   "id": "dfe7d68c",
   "metadata": {},
   "outputs": [],
   "source": [
    "from tensorflow.keras.models import Sequential\n",
    "from tensorflow.keras.layers import Dense, LSTM\n",
    "model = Sequential()\n",
    "model.add(LSTM(50, return_sequences = True, input_shape = (100,1)))\n",
    "model.add(LSTM(50, return_sequences = True))\n",
    "model.add(LSTM(50, return_sequences = False))\n",
    "model.add(Dense(1))\n",
    "model.compile(loss = 'mean_squared_error', optimizer = 'adam')"
   ]
  },
  {
   "cell_type": "code",
   "execution_count": 26,
   "id": "00b3419c",
   "metadata": {},
   "outputs": [
    {
     "name": "stdout",
     "output_type": "stream",
     "text": [
      "Model: \"sequential\"\n",
      "_________________________________________________________________\n",
      " Layer (type)                Output Shape              Param #   \n",
      "=================================================================\n",
      " lstm (LSTM)                 (None, 100, 50)           10400     \n",
      "                                                                 \n",
      " lstm_1 (LSTM)               (None, 100, 50)           20200     \n",
      "                                                                 \n",
      " lstm_2 (LSTM)               (None, 50)                20200     \n",
      "                                                                 \n",
      " dense (Dense)               (None, 1)                 51        \n",
      "                                                                 \n",
      "=================================================================\n",
      "Total params: 50,851\n",
      "Trainable params: 50,851\n",
      "Non-trainable params: 0\n",
      "_________________________________________________________________\n"
     ]
    }
   ],
   "source": [
    "model.summary()"
   ]
  },
  {
   "cell_type": "code",
   "execution_count": 27,
   "id": "36199db1",
   "metadata": {
    "scrolled": true
   },
   "outputs": [
    {
     "name": "stdout",
     "output_type": "stream",
     "text": [
      "Epoch 1/100\n",
      "13/13 [==============================] - 18s 599ms/step - loss: 0.0348 - val_loss: 0.0998\n",
      "Epoch 2/100\n",
      "13/13 [==============================] - 5s 403ms/step - loss: 0.0070 - val_loss: 0.0106\n",
      "Epoch 3/100\n",
      "13/13 [==============================] - 5s 381ms/step - loss: 0.0034 - val_loss: 0.0065\n",
      "Epoch 4/100\n",
      "13/13 [==============================] - 6s 503ms/step - loss: 0.0025 - val_loss: 0.0065\n",
      "Epoch 5/100\n",
      "13/13 [==============================] - 3s 212ms/step - loss: 0.0023 - val_loss: 0.0060\n",
      "Epoch 6/100\n",
      "13/13 [==============================] - 3s 198ms/step - loss: 0.0023 - val_loss: 0.0063\n",
      "Epoch 7/100\n",
      "13/13 [==============================] - 3s 210ms/step - loss: 0.0019 - val_loss: 0.0058\n",
      "Epoch 8/100\n",
      "13/13 [==============================] - 3s 216ms/step - loss: 0.0018 - val_loss: 0.0050\n",
      "Epoch 9/100\n",
      "13/13 [==============================] - 3s 216ms/step - loss: 0.0017 - val_loss: 0.0053\n",
      "Epoch 10/100\n",
      "13/13 [==============================] - 3s 208ms/step - loss: 0.0016 - val_loss: 0.0053\n",
      "Epoch 11/100\n",
      "13/13 [==============================] - 3s 204ms/step - loss: 0.0015 - val_loss: 0.0047\n",
      "Epoch 12/100\n",
      "13/13 [==============================] - 3s 222ms/step - loss: 0.0015 - val_loss: 0.0062\n",
      "Epoch 13/100\n",
      "13/13 [==============================] - 3s 237ms/step - loss: 0.0013 - val_loss: 0.0040\n",
      "Epoch 14/100\n",
      "13/13 [==============================] - 3s 225ms/step - loss: 0.0014 - val_loss: 0.0116\n",
      "Epoch 15/100\n",
      "13/13 [==============================] - 3s 208ms/step - loss: 0.0014 - val_loss: 0.0037\n",
      "Epoch 16/100\n",
      "13/13 [==============================] - 3s 217ms/step - loss: 0.0012 - val_loss: 0.0038\n",
      "Epoch 17/100\n",
      "13/13 [==============================] - 3s 225ms/step - loss: 0.0012 - val_loss: 0.0050\n",
      "Epoch 18/100\n",
      "13/13 [==============================] - 3s 220ms/step - loss: 0.0011 - val_loss: 0.0036\n",
      "Epoch 19/100\n",
      "13/13 [==============================] - 3s 199ms/step - loss: 0.0011 - val_loss: 0.0077\n",
      "Epoch 20/100\n",
      "13/13 [==============================] - 3s 218ms/step - loss: 0.0012 - val_loss: 0.0033\n",
      "Epoch 21/100\n",
      "13/13 [==============================] - 3s 216ms/step - loss: 0.0011 - val_loss: 0.0068\n",
      "Epoch 22/100\n",
      "13/13 [==============================] - 3s 209ms/step - loss: 0.0011 - val_loss: 0.0033\n",
      "Epoch 23/100\n",
      "13/13 [==============================] - 3s 205ms/step - loss: 9.8495e-04 - val_loss: 0.0032\n",
      "Epoch 24/100\n",
      "13/13 [==============================] - 3s 202ms/step - loss: 0.0010 - val_loss: 0.0054\n",
      "Epoch 25/100\n",
      "13/13 [==============================] - 3s 216ms/step - loss: 9.2414e-04 - val_loss: 0.0038\n",
      "Epoch 26/100\n",
      "13/13 [==============================] - 3s 202ms/step - loss: 9.0843e-04 - val_loss: 0.0039\n",
      "Epoch 27/100\n",
      "13/13 [==============================] - 3s 206ms/step - loss: 9.0064e-04 - val_loss: 0.0045\n",
      "Epoch 28/100\n",
      "13/13 [==============================] - 3s 199ms/step - loss: 8.5495e-04 - val_loss: 0.0045\n",
      "Epoch 29/100\n",
      "13/13 [==============================] - 3s 207ms/step - loss: 8.6138e-04 - val_loss: 0.0031\n",
      "Epoch 30/100\n",
      "13/13 [==============================] - 3s 214ms/step - loss: 8.0715e-04 - val_loss: 0.0057\n",
      "Epoch 31/100\n",
      "13/13 [==============================] - 3s 200ms/step - loss: 8.4502e-04 - val_loss: 0.0025\n",
      "Epoch 32/100\n",
      "13/13 [==============================] - 3s 208ms/step - loss: 8.0332e-04 - val_loss: 0.0042\n",
      "Epoch 33/100\n",
      "13/13 [==============================] - 3s 224ms/step - loss: 7.7578e-04 - val_loss: 0.0024\n",
      "Epoch 34/100\n",
      "13/13 [==============================] - 3s 206ms/step - loss: 7.6002e-04 - val_loss: 0.0043\n",
      "Epoch 35/100\n",
      "13/13 [==============================] - 3s 208ms/step - loss: 7.4379e-04 - val_loss: 0.0032\n",
      "Epoch 36/100\n",
      "13/13 [==============================] - 3s 200ms/step - loss: 7.0611e-04 - val_loss: 0.0048\n",
      "Epoch 37/100\n",
      "13/13 [==============================] - 3s 209ms/step - loss: 7.3250e-04 - val_loss: 0.0058\n",
      "Epoch 38/100\n",
      "13/13 [==============================] - 3s 216ms/step - loss: 8.5891e-04 - val_loss: 0.0021\n",
      "Epoch 39/100\n",
      "13/13 [==============================] - 3s 217ms/step - loss: 7.2296e-04 - val_loss: 0.0024\n",
      "Epoch 40/100\n",
      "13/13 [==============================] - 3s 212ms/step - loss: 7.4827e-04 - val_loss: 0.0058\n",
      "Epoch 41/100\n",
      "13/13 [==============================] - 3s 200ms/step - loss: 7.7744e-04 - val_loss: 0.0020\n",
      "Epoch 42/100\n",
      "13/13 [==============================] - 3s 204ms/step - loss: 7.0378e-04 - val_loss: 0.0025\n",
      "Epoch 43/100\n",
      "13/13 [==============================] - 3s 207ms/step - loss: 6.9080e-04 - val_loss: 0.0029\n",
      "Epoch 44/100\n",
      "13/13 [==============================] - 3s 204ms/step - loss: 6.5628e-04 - val_loss: 0.0022\n",
      "Epoch 45/100\n",
      "13/13 [==============================] - 3s 204ms/step - loss: 6.1850e-04 - val_loss: 0.0037\n",
      "Epoch 46/100\n",
      "13/13 [==============================] - 3s 212ms/step - loss: 5.9151e-04 - val_loss: 0.0026\n",
      "Epoch 47/100\n",
      "13/13 [==============================] - 3s 223ms/step - loss: 5.7710e-04 - val_loss: 0.0019\n",
      "Epoch 48/100\n",
      "13/13 [==============================] - 3s 214ms/step - loss: 6.4763e-04 - val_loss: 0.0018\n",
      "Epoch 49/100\n",
      "13/13 [==============================] - 3s 218ms/step - loss: 6.3388e-04 - val_loss: 0.0020\n",
      "Epoch 50/100\n",
      "13/13 [==============================] - 3s 215ms/step - loss: 5.8781e-04 - val_loss: 0.0026\n",
      "Epoch 51/100\n",
      "13/13 [==============================] - 3s 216ms/step - loss: 5.4388e-04 - val_loss: 0.0018\n",
      "Epoch 52/100\n",
      "13/13 [==============================] - 3s 217ms/step - loss: 5.5354e-04 - val_loss: 0.0027\n",
      "Epoch 53/100\n",
      "13/13 [==============================] - 3s 215ms/step - loss: 5.3785e-04 - val_loss: 0.0018\n",
      "Epoch 54/100\n",
      "13/13 [==============================] - 3s 224ms/step - loss: 5.6963e-04 - val_loss: 0.0023\n",
      "Epoch 55/100\n",
      "13/13 [==============================] - 3s 224ms/step - loss: 5.1100e-04 - val_loss: 0.0023\n",
      "Epoch 56/100\n",
      "13/13 [==============================] - 3s 224ms/step - loss: 5.2924e-04 - val_loss: 0.0035\n",
      "Epoch 57/100\n",
      "13/13 [==============================] - 3s 220ms/step - loss: 5.3021e-04 - val_loss: 0.0024\n",
      "Epoch 58/100\n",
      "13/13 [==============================] - 3s 215ms/step - loss: 5.1711e-04 - val_loss: 0.0036\n",
      "Epoch 59/100\n",
      "13/13 [==============================] - 3s 223ms/step - loss: 5.5909e-04 - val_loss: 0.0047\n",
      "Epoch 60/100\n",
      "13/13 [==============================] - 3s 223ms/step - loss: 5.2965e-04 - val_loss: 0.0026\n",
      "Epoch 61/100\n",
      "13/13 [==============================] - 3s 224ms/step - loss: 5.1936e-04 - val_loss: 0.0021\n",
      "Epoch 62/100\n",
      "13/13 [==============================] - 3s 229ms/step - loss: 5.0881e-04 - val_loss: 0.0026\n",
      "Epoch 63/100\n",
      "13/13 [==============================] - 3s 230ms/step - loss: 4.7168e-04 - val_loss: 0.0033\n",
      "Epoch 64/100\n",
      "13/13 [==============================] - 3s 223ms/step - loss: 4.6163e-04 - val_loss: 0.0017\n",
      "Epoch 65/100\n",
      "13/13 [==============================] - 3s 228ms/step - loss: 4.9021e-04 - val_loss: 0.0018\n",
      "Epoch 66/100\n",
      "13/13 [==============================] - 3s 233ms/step - loss: 4.6932e-04 - val_loss: 0.0019\n",
      "Epoch 67/100\n",
      "13/13 [==============================] - 3s 233ms/step - loss: 8.3929e-04 - val_loss: 0.0015\n",
      "Epoch 68/100\n",
      "13/13 [==============================] - 3s 228ms/step - loss: 6.4402e-04 - val_loss: 0.0055\n",
      "Epoch 69/100\n",
      "13/13 [==============================] - 3s 240ms/step - loss: 5.7059e-04 - val_loss: 0.0030\n",
      "Epoch 70/100\n",
      "13/13 [==============================] - 3s 229ms/step - loss: 5.6156e-04 - val_loss: 0.0015\n",
      "Epoch 71/100\n",
      "13/13 [==============================] - 3s 226ms/step - loss: 5.3815e-04 - val_loss: 0.0015\n",
      "Epoch 72/100\n",
      "13/13 [==============================] - 3s 232ms/step - loss: 4.5078e-04 - val_loss: 0.0024\n",
      "Epoch 73/100\n",
      "13/13 [==============================] - 3s 237ms/step - loss: 4.2596e-04 - val_loss: 0.0023\n",
      "Epoch 74/100\n",
      "13/13 [==============================] - 3s 244ms/step - loss: 4.3976e-04 - val_loss: 0.0035\n",
      "Epoch 75/100\n",
      "13/13 [==============================] - 3s 248ms/step - loss: 4.6958e-04 - val_loss: 0.0021\n",
      "Epoch 76/100\n",
      "13/13 [==============================] - 3s 239ms/step - loss: 4.3280e-04 - val_loss: 0.0016\n",
      "Epoch 77/100\n",
      "13/13 [==============================] - 3s 232ms/step - loss: 6.4234e-04 - val_loss: 0.0013\n",
      "Epoch 78/100\n",
      "13/13 [==============================] - 3s 227ms/step - loss: 4.9528e-04 - val_loss: 0.0036\n",
      "Epoch 79/100\n",
      "13/13 [==============================] - 3s 223ms/step - loss: 4.5510e-04 - val_loss: 0.0021\n",
      "Epoch 80/100\n",
      "13/13 [==============================] - 3s 226ms/step - loss: 3.9865e-04 - val_loss: 0.0017\n",
      "Epoch 81/100\n",
      "13/13 [==============================] - 3s 224ms/step - loss: 4.1193e-04 - val_loss: 0.0022\n",
      "Epoch 82/100\n",
      "13/13 [==============================] - 3s 221ms/step - loss: 4.0219e-04 - val_loss: 0.0019\n",
      "Epoch 83/100\n",
      "13/13 [==============================] - 3s 220ms/step - loss: 3.9295e-04 - val_loss: 0.0013\n",
      "Epoch 84/100\n",
      "13/13 [==============================] - 3s 220ms/step - loss: 3.7486e-04 - val_loss: 0.0022\n",
      "Epoch 85/100\n",
      "13/13 [==============================] - 3s 220ms/step - loss: 4.7199e-04 - val_loss: 0.0011\n",
      "Epoch 86/100\n",
      "13/13 [==============================] - 3s 233ms/step - loss: 3.8334e-04 - val_loss: 0.0016\n",
      "Epoch 87/100\n",
      "13/13 [==============================] - 3s 235ms/step - loss: 3.6824e-04 - val_loss: 0.0027\n",
      "Epoch 88/100\n",
      "13/13 [==============================] - 3s 228ms/step - loss: 3.8993e-04 - val_loss: 0.0023\n",
      "Epoch 89/100\n",
      "13/13 [==============================] - 3s 230ms/step - loss: 3.7666e-04 - val_loss: 0.0011\n",
      "Epoch 90/100\n",
      "13/13 [==============================] - 3s 233ms/step - loss: 4.1565e-04 - val_loss: 0.0015\n",
      "Epoch 91/100\n",
      "13/13 [==============================] - 3s 237ms/step - loss: 3.7602e-04 - val_loss: 0.0011\n",
      "Epoch 92/100\n",
      "13/13 [==============================] - 3s 239ms/step - loss: 4.6852e-04 - val_loss: 0.0011\n",
      "Epoch 93/100\n",
      "13/13 [==============================] - 3s 241ms/step - loss: 3.6868e-04 - val_loss: 0.0015\n",
      "Epoch 94/100\n",
      "13/13 [==============================] - 3s 230ms/step - loss: 3.4920e-04 - val_loss: 0.0015\n",
      "Epoch 95/100\n",
      "13/13 [==============================] - 3s 224ms/step - loss: 4.1528e-04 - val_loss: 0.0033\n",
      "Epoch 96/100\n",
      "13/13 [==============================] - 3s 227ms/step - loss: 3.7730e-04 - val_loss: 0.0023\n",
      "Epoch 97/100\n",
      "13/13 [==============================] - 3s 229ms/step - loss: 3.7170e-04 - val_loss: 0.0029\n",
      "Epoch 98/100\n",
      "13/13 [==============================] - 3s 233ms/step - loss: 4.5680e-04 - val_loss: 0.0023\n",
      "Epoch 99/100\n",
      "13/13 [==============================] - 3s 228ms/step - loss: 4.4146e-04 - val_loss: 0.0015\n",
      "Epoch 100/100\n",
      "13/13 [==============================] - 3s 232ms/step - loss: 3.6664e-04 - val_loss: 0.0016\n"
     ]
    }
   ],
   "source": [
    "history = model.fit(X_train, y_train, validation_data=(X_test, y_test), epochs=100, batch_size=64, verbose=1)"
   ]
  },
  {
   "cell_type": "code",
   "execution_count": 28,
   "id": "d3de7b53",
   "metadata": {},
   "outputs": [
    {
     "name": "stdout",
     "output_type": "stream",
     "text": [
      "25/25 [==============================] - 2s 44ms/step\n",
      "9/9 [==============================] - 0s 43ms/step\n"
     ]
    }
   ],
   "source": [
    "X_train_predict = model.predict(X_train)\n",
    "X_test_predict = model.predict(X_test)"
   ]
  },
  {
   "cell_type": "code",
   "execution_count": 29,
   "id": "95a181b4",
   "metadata": {},
   "outputs": [],
   "source": [
    "X_train_predict = scaler.inverse_transform(X_train_predict)\n",
    "X_test_predict = scaler.inverse_transform(X_test_predict)"
   ]
  },
  {
   "cell_type": "code",
   "execution_count": 30,
   "id": "b304aec9",
   "metadata": {},
   "outputs": [
    {
     "data": {
      "text/plain": [
       "((778, 1), (277, 1))"
      ]
     },
     "execution_count": 30,
     "metadata": {},
     "output_type": "execute_result"
    }
   ],
   "source": [
    "X_train_predict.shape, X_test_predict.shape"
   ]
  },
  {
   "cell_type": "code",
   "execution_count": 31,
   "id": "bfaa9359",
   "metadata": {},
   "outputs": [
    {
     "data": {
      "text/plain": [
       "13.788649173814921"
      ]
     },
     "execution_count": 31,
     "metadata": {},
     "output_type": "execute_result"
    }
   ],
   "source": [
    "from sklearn.metrics import mean_squared_error\n",
    "np.sqrt(mean_squared_error(y_train, X_train_predict))"
   ]
  },
  {
   "cell_type": "code",
   "execution_count": 32,
   "id": "20c676aa",
   "metadata": {},
   "outputs": [
    {
     "data": {
      "text/plain": [
       "27.63047314034028"
      ]
     },
     "execution_count": 32,
     "metadata": {},
     "output_type": "execute_result"
    }
   ],
   "source": [
    "np.sqrt(mean_squared_error(y_test, X_test_predict))"
   ]
  },
  {
   "cell_type": "code",
   "execution_count": 33,
   "id": "534760f5",
   "metadata": {},
   "outputs": [
    {
     "data": {
      "text/plain": [
       "<matplotlib.legend.Legend at 0x11ad685ed00>"
      ]
     },
     "execution_count": 33,
     "metadata": {},
     "output_type": "execute_result"
    },
    {
     "data": {
      "image/png": "[encoded data removed]",
      "text/plain": [
       "<Figure size 640x480 with 1 Axes>"
      ]
     },
     "metadata": {},
     "output_type": "display_data"
    }
   ],
   "source": [
    "plt.plot(history.history['loss'], label = \"Loss\")\n",
    "plt.plot(history.history['val_loss'], label = \"Validation Loss\")\n",
    "plt.xlabel(\"Epochs\")\n",
    "plt.ylabel(\"Loss Value\")\n",
    "plt.legend()"
   ]
  },
  {
   "cell_type": "code",
   "execution_count": 35,
   "id": "feed6d01",
   "metadata": {},
   "outputs": [],
   "source": [
    "###### Plotting the data and predictions ######"
   ]
  },
  {
   "cell_type": "code",
   "execution_count": 36,
   "id": "eb050799",
   "metadata": {},
   "outputs": [
    {
     "data": {
      "image/png": "[encoded data removed]",
      "text/plain": [
       "<Figure size 640x480 with 1 Axes>"
      ]
     },
     "metadata": {},
     "output_type": "display_data"
    }
   ],
   "source": [
    "prev_step = 100\n",
    "train_predict_plot = np.empty_like(df4)\n",
    "train_predict_plot[:, :] = np.nan\n",
    "train_predict_plot[prev_step:len(X_train_predict)+prev_step, :] = X_train_predict\n",
    "\n",
    "prev_step = 100\n",
    "test_predict_plot = np.empty_like(df4)\n",
    "test_predict_plot[:, :] = np.nan\n",
    "test_predict_plot[len(X_train_predict)+(prev_step*2)+1:len(df4)-1, :] = X_test_predict\n",
    "\n",
    "plt.plot(scaler.inverse_transform(df4))\n",
    "plt.plot(train_predict_plot)\n",
    "plt.plot(test_predict_plot)\n",
    "plt.show()"
   ]
  },
  {
   "cell_type": "code",
   "execution_count": 37,
   "id": "becf6811",
   "metadata": {},
   "outputs": [],
   "source": [
    "##### Next 30 days Prediction #####"
   ]
  },
  {
   "cell_type": "code",
   "execution_count": 38,
   "id": "ce6b1d3d",
   "metadata": {},
   "outputs": [
    {
     "data": {
      "text/plain": [
       "378"
      ]
     },
     "execution_count": 38,
     "metadata": {},
     "output_type": "execute_result"
    }
   ],
   "source": [
    "len(test_data)"
   ]
  },
  {
   "cell_type": "code",
   "execution_count": 39,
   "id": "4a1ecafc",
   "metadata": {},
   "outputs": [
    {
     "data": {
      "text/plain": [
       "(1, 100)"
      ]
     },
     "execution_count": 39,
     "metadata": {},
     "output_type": "execute_result"
    }
   ],
   "source": [
    "prev_data_2 = 100\n",
    "x_input = test_data[len(test_data) - prev_data_2: ].reshape(1,-1)\n",
    "x_input.shape"
   ]
  },
  {
   "cell_type": "code",
   "execution_count": 40,
   "id": "414760b0",
   "metadata": {},
   "outputs": [],
   "source": [
    "temp_input = list(x_input)\n",
    "temp_input = temp_input[0].tolist()"
   ]
  },
  {
   "cell_type": "code",
   "execution_count": 41,
   "id": "0cfbcde7",
   "metadata": {
    "scrolled": true
   },
   "outputs": [
    {
     "data": {
      "text/plain": [
       "[0.7226182760855476,\n",
       " 0.7180816591056383,\n",
       " 0.720349967595593,\n",
       " 0.7060920285158782,\n",
       " 0.7206740116655865,\n",
       " 0.7148412184057031,\n",
       " 0.7239144523655218,\n",
       " 0.7653920933246922,\n",
       " 0.7718729747245625,\n",
       " 0.7511341542449773,\n",
       " 0.7469215813350615,\n",
       " 0.7303953337653921,\n",
       " 0.7401166558651977,\n",
       " 0.7692806221646143,\n",
       " 0.7747893713545041,\n",
       " 0.7955281918340894,\n",
       " 0.7812702527543747,\n",
       " 0.7984445884640311,\n",
       " 0.7812702527543747,\n",
       " 0.7754374594944913,\n",
       " 0.7605314322747894,\n",
       " 0.7592352559948153,\n",
       " 0.7812702527543747,\n",
       " 0.7919637070641607,\n",
       " 0.8587167854828256,\n",
       " 0.8515878159429682,\n",
       " 0.8379779650032405,\n",
       " 0.8259883344134802,\n",
       " 0.814646791963707,\n",
       " 0.8266364225534673,\n",
       " 0.8250162022034996,\n",
       " 0.8671419313026572,\n",
       " 0.8321451717433571,\n",
       " 0.8532080362929358,\n",
       " 0.8515878159429682,\n",
       " 0.8729747245625405,\n",
       " 0.8532080362929358,\n",
       " 0.8603370058327932,\n",
       " 0.8165910563836682,\n",
       " 0.7832145171743357,\n",
       " 0.803953337653921,\n",
       " 0.815294880103694,\n",
       " 0.81399870382372,\n",
       " 0.7939079714841217,\n",
       " 0.7945560596241089,\n",
       " 0.8071937783538561,\n",
       " 0.8075178224238496,\n",
       " 0.8159429682436812,\n",
       " 0.7942320155541154,\n",
       " 0.7835385612443293,\n",
       " 0.7867790019442644,\n",
       " 0.7712248865845754,\n",
       " 0.779650032404407,\n",
       " 0.7994167206740116,\n",
       " 0.7757615035644847,\n",
       " 0.7780298120544393,\n",
       " 0.7624756966947505,\n",
       " 0.7352559948152948,\n",
       " 0.7440051847051199,\n",
       " 0.7391445236552171,\n",
       " 0.7184057031756319,\n",
       " 0.7184057031756319,\n",
       " 0.6931302657161373,\n",
       " 0.6545690213869086,\n",
       " 0.6574854180168503,\n",
       " 0.6717433570965651,\n",
       " 0.636746597537265,\n",
       " 0.6539209332469216,\n",
       " 0.6571613739468567,\n",
       " 0.6924821775761503,\n",
       " 0.6860012961762799,\n",
       " 0.676604018146468,\n",
       " 0.6542449773169151,\n",
       " 0.6328580686973428,\n",
       " 0.6283214517174335,\n",
       " 0.634802333117304,\n",
       " 0.6555411535968891,\n",
       " 0.6289695398574205,\n",
       " 0.652300712896954,\n",
       " 0.6548930654569021,\n",
       " 0.6377187297472456,\n",
       " 0.6318859364873622,\n",
       " 0.6487362281270254,\n",
       " 0.6620220349967596,\n",
       " 0.6574854180168503,\n",
       " 0.669799092676604,\n",
       " 0.6701231367465976,\n",
       " 0.6863253402462736,\n",
       " 0.6782242384964355,\n",
       " 0.6989630589760207,\n",
       " 0.686649384316267,\n",
       " 0.6882696046662347,\n",
       " 0.7245625405055087,\n",
       " 0.7414128321451717,\n",
       " 0.7556707712248866,\n",
       " 0.7232663642255346,\n",
       " 0.72099805573558,\n",
       " 0.7284510693454309,\n",
       " 0.745949449125081,\n",
       " 0.7436811406351264]"
      ]
     },
     "execution_count": 41,
     "metadata": {},
     "output_type": "execute_result"
    }
   ],
   "source": [
    "temp_input    # Last 100 data of df4"
   ]
  },
  {
   "cell_type": "code",
   "execution_count": 42,
   "id": "5bf3c913",
   "metadata": {},
   "outputs": [
    {
     "name": "stdout",
     "output_type": "stream",
     "text": [
      "[0.7229066]\n",
      "101\n",
      "1 day input [0.71808166 0.72034997 0.70609203 0.72067401 0.71484122 0.72391445\n",
      " 0.76539209 0.77187297 0.75113415 0.74692158 0.73039533 0.74011666\n",
      " 0.76928062 0.77478937 0.79552819 0.78127025 0.79844459 0.78127025\n",
      " 0.77543746 0.76053143 0.75923526 0.78127025 0.79196371 0.85871679\n",
      " 0.85158782 0.83797797 0.82598833 0.81464679 0.82663642 0.8250162\n",
      " 0.86714193 0.83214517 0.85320804 0.85158782 0.87297472 0.85320804\n",
      " 0.86033701 0.81659106 0.78321452 0.80395334 0.81529488 0.8139987\n",
      " 0.79390797 0.79455606 0.80719378 0.80751782 0.81594297 0.79423202\n",
      " 0.78353856 0.786779   0.77122489 0.77965003 0.79941672 0.7757615\n",
      " 0.77802981 0.7624757  0.73525599 0.74400518 0.73914452 0.7184057\n",
      " 0.7184057  0.69313027 0.65456902 0.65748542 0.67174336 0.6367466\n",
      " 0.65392093 0.65716137 0.69248218 0.6860013  0.67660402 0.65424498\n",
      " 0.63285807 0.62832145 0.63480233 0.65554115 0.62896954 0.65230071\n",
      " 0.65489307 0.63771873 0.63188594 0.64873623 0.66202203 0.65748542\n",
      " 0.66979909 0.67012314 0.68632534 0.67822424 0.69896306 0.68664938\n",
      " 0.6882696  0.72456254 0.74141283 0.75567077 0.72326636 0.72099806\n",
      " 0.72845107 0.74594945 0.74368114 0.72290659]\n",
      "1 day output [[0.7186367]]\n",
      "2 day input [0.72034997 0.70609203 0.72067401 0.71484122 0.72391445 0.76539209\n",
      " 0.77187297 0.75113415 0.74692158 0.73039533 0.74011666 0.76928062\n",
      " 0.77478937 0.79552819 0.78127025 0.79844459 0.78127025 0.77543746\n",
      " 0.76053143 0.75923526 0.78127025 0.79196371 0.85871679 0.85158782\n",
      " 0.83797797 0.82598833 0.81464679 0.82663642 0.8250162  0.86714193\n",
      " 0.83214517 0.85320804 0.85158782 0.87297472 0.85320804 0.86033701\n",
      " 0.81659106 0.78321452 0.80395334 0.81529488 0.8139987  0.79390797\n",
      " 0.79455606 0.80719378 0.80751782 0.81594297 0.79423202 0.78353856\n",
      " 0.786779   0.77122489 0.77965003 0.79941672 0.7757615  0.77802981\n",
      " 0.7624757  0.73525599 0.74400518 0.73914452 0.7184057  0.7184057\n",
      " 0.69313027 0.65456902 0.65748542 0.67174336 0.6367466  0.65392093\n",
      " 0.65716137 0.69248218 0.6860013  0.67660402 0.65424498 0.63285807\n",
      " 0.62832145 0.63480233 0.65554115 0.62896954 0.65230071 0.65489307\n",
      " 0.63771873 0.63188594 0.64873623 0.66202203 0.65748542 0.66979909\n",
      " 0.67012314 0.68632534 0.67822424 0.69896306 0.68664938 0.6882696\n",
      " 0.72456254 0.74141283 0.75567077 0.72326636 0.72099806 0.72845107\n",
      " 0.74594945 0.74368114 0.72290659 0.71863669]\n",
      "2 day output [[0.7107942]]\n",
      "3 day input [0.70609203 0.72067401 0.71484122 0.72391445 0.76539209 0.77187297\n",
      " 0.75113415 0.74692158 0.73039533 0.74011666 0.76928062 0.77478937\n",
      " 0.79552819 0.78127025 0.79844459 0.78127025 0.77543746 0.76053143\n",
      " 0.75923526 0.78127025 0.79196371 0.85871679 0.85158782 0.83797797\n",
      " 0.82598833 0.81464679 0.82663642 0.8250162  0.86714193 0.83214517\n",
      " 0.85320804 0.85158782 0.87297472 0.85320804 0.86033701 0.81659106\n",
      " 0.78321452 0.80395334 0.81529488 0.8139987  0.79390797 0.79455606\n",
      " 0.80719378 0.80751782 0.81594297 0.79423202 0.78353856 0.786779\n",
      " 0.77122489 0.77965003 0.79941672 0.7757615  0.77802981 0.7624757\n",
      " 0.73525599 0.74400518 0.73914452 0.7184057  0.7184057  0.69313027\n",
      " 0.65456902 0.65748542 0.67174336 0.6367466  0.65392093 0.65716137\n",
      " 0.69248218 0.6860013  0.67660402 0.65424498 0.63285807 0.62832145\n",
      " 0.63480233 0.65554115 0.62896954 0.65230071 0.65489307 0.63771873\n",
      " 0.63188594 0.64873623 0.66202203 0.65748542 0.66979909 0.67012314\n",
      " 0.68632534 0.67822424 0.69896306 0.68664938 0.6882696  0.72456254\n",
      " 0.74141283 0.75567077 0.72326636 0.72099806 0.72845107 0.74594945\n",
      " 0.74368114 0.72290659 0.71863669 0.71079421]\n",
      "3 day output [[0.7032737]]\n",
      "4 day input [0.72067401 0.71484122 0.72391445 0.76539209 0.77187297 0.75113415\n",
      " 0.74692158 0.73039533 0.74011666 0.76928062 0.77478937 0.79552819\n",
      " 0.78127025 0.79844459 0.78127025 0.77543746 0.76053143 0.75923526\n",
      " 0.78127025 0.79196371 0.85871679 0.85158782 0.83797797 0.82598833\n",
      " 0.81464679 0.82663642 0.8250162  0.86714193 0.83214517 0.85320804\n",
      " 0.85158782 0.87297472 0.85320804 0.86033701 0.81659106 0.78321452\n",
      " 0.80395334 0.81529488 0.8139987  0.79390797 0.79455606 0.80719378\n",
      " 0.80751782 0.81594297 0.79423202 0.78353856 0.786779   0.77122489\n",
      " 0.77965003 0.79941672 0.7757615  0.77802981 0.7624757  0.73525599\n",
      " 0.74400518 0.73914452 0.7184057  0.7184057  0.69313027 0.65456902\n",
      " 0.65748542 0.67174336 0.6367466  0.65392093 0.65716137 0.69248218\n",
      " 0.6860013  0.67660402 0.65424498 0.63285807 0.62832145 0.63480233\n",
      " 0.65554115 0.62896954 0.65230071 0.65489307 0.63771873 0.63188594\n",
      " 0.64873623 0.66202203 0.65748542 0.66979909 0.67012314 0.68632534\n",
      " 0.67822424 0.69896306 0.68664938 0.6882696  0.72456254 0.74141283\n",
      " 0.75567077 0.72326636 0.72099806 0.72845107 0.74594945 0.74368114\n",
      " 0.72290659 0.71863669 0.71079421 0.70327371]\n",
      "4 day output [[0.696978]]\n",
      "5 day input [0.71484122 0.72391445 0.76539209 0.77187297 0.75113415 0.74692158\n",
      " 0.73039533 0.74011666 0.76928062 0.77478937 0.79552819 0.78127025\n",
      " 0.79844459 0.78127025 0.77543746 0.76053143 0.75923526 0.78127025\n",
      " 0.79196371 0.85871679 0.85158782 0.83797797 0.82598833 0.81464679\n",
      " 0.82663642 0.8250162  0.86714193 0.83214517 0.85320804 0.85158782\n",
      " 0.87297472 0.85320804 0.86033701 0.81659106 0.78321452 0.80395334\n",
      " 0.81529488 0.8139987  0.79390797 0.79455606 0.80719378 0.80751782\n",
      " 0.81594297 0.79423202 0.78353856 0.786779   0.77122489 0.77965003\n",
      " 0.79941672 0.7757615  0.77802981 0.7624757  0.73525599 0.74400518\n",
      " 0.73914452 0.7184057  0.7184057  0.69313027 0.65456902 0.65748542\n",
      " 0.67174336 0.6367466  0.65392093 0.65716137 0.69248218 0.6860013\n",
      " 0.67660402 0.65424498 0.63285807 0.62832145 0.63480233 0.65554115\n",
      " 0.62896954 0.65230071 0.65489307 0.63771873 0.63188594 0.64873623\n",
      " 0.66202203 0.65748542 0.66979909 0.67012314 0.68632534 0.67822424\n",
      " 0.69896306 0.68664938 0.6882696  0.72456254 0.74141283 0.75567077\n",
      " 0.72326636 0.72099806 0.72845107 0.74594945 0.74368114 0.72290659\n",
      " 0.71863669 0.71079421 0.70327371 0.69697797]\n",
      "5 day output [[0.6919567]]\n",
      "6 day input [0.72391445 0.76539209 0.77187297 0.75113415 0.74692158 0.73039533\n",
      " 0.74011666 0.76928062 0.77478937 0.79552819 0.78127025 0.79844459\n",
      " 0.78127025 0.77543746 0.76053143 0.75923526 0.78127025 0.79196371\n",
      " 0.85871679 0.85158782 0.83797797 0.82598833 0.81464679 0.82663642\n",
      " 0.8250162  0.86714193 0.83214517 0.85320804 0.85158782 0.87297472\n",
      " 0.85320804 0.86033701 0.81659106 0.78321452 0.80395334 0.81529488\n",
      " 0.8139987  0.79390797 0.79455606 0.80719378 0.80751782 0.81594297\n",
      " 0.79423202 0.78353856 0.786779   0.77122489 0.77965003 0.79941672\n",
      " 0.7757615  0.77802981 0.7624757  0.73525599 0.74400518 0.73914452\n",
      " 0.7184057  0.7184057  0.69313027 0.65456902 0.65748542 0.67174336\n",
      " 0.6367466  0.65392093 0.65716137 0.69248218 0.6860013  0.67660402\n",
      " 0.65424498 0.63285807 0.62832145 0.63480233 0.65554115 0.62896954\n",
      " 0.65230071 0.65489307 0.63771873 0.63188594 0.64873623 0.66202203\n",
      " 0.65748542 0.66979909 0.67012314 0.68632534 0.67822424 0.69896306\n",
      " 0.68664938 0.6882696  0.72456254 0.74141283 0.75567077 0.72326636\n",
      " 0.72099806 0.72845107 0.74594945 0.74368114 0.72290659 0.71863669\n",
      " 0.71079421 0.70327371 0.69697797 0.6919567 ]\n",
      "6 day output [[0.6880114]]\n",
      "7 day input [0.76539209 0.77187297 0.75113415 0.74692158 0.73039533 0.74011666\n",
      " 0.76928062 0.77478937 0.79552819 0.78127025 0.79844459 0.78127025\n",
      " 0.77543746 0.76053143 0.75923526 0.78127025 0.79196371 0.85871679\n",
      " 0.85158782 0.83797797 0.82598833 0.81464679 0.82663642 0.8250162\n",
      " 0.86714193 0.83214517 0.85320804 0.85158782 0.87297472 0.85320804\n",
      " 0.86033701 0.81659106 0.78321452 0.80395334 0.81529488 0.8139987\n",
      " 0.79390797 0.79455606 0.80719378 0.80751782 0.81594297 0.79423202\n",
      " 0.78353856 0.786779   0.77122489 0.77965003 0.79941672 0.7757615\n",
      " 0.77802981 0.7624757  0.73525599 0.74400518 0.73914452 0.7184057\n",
      " 0.7184057  0.69313027 0.65456902 0.65748542 0.67174336 0.6367466\n",
      " 0.65392093 0.65716137 0.69248218 0.6860013  0.67660402 0.65424498\n",
      " 0.63285807 0.62832145 0.63480233 0.65554115 0.62896954 0.65230071\n",
      " 0.65489307 0.63771873 0.63188594 0.64873623 0.66202203 0.65748542\n",
      " 0.66979909 0.67012314 0.68632534 0.67822424 0.69896306 0.68664938\n",
      " 0.6882696  0.72456254 0.74141283 0.75567077 0.72326636 0.72099806\n",
      " 0.72845107 0.74594945 0.74368114 0.72290659 0.71863669 0.71079421\n",
      " 0.70327371 0.69697797 0.6919567  0.68801141]\n",
      "7 day output [[0.6848353]]\n",
      "8 day input [0.77187297 0.75113415 0.74692158 0.73039533 0.74011666 0.76928062\n",
      " 0.77478937 0.79552819 0.78127025 0.79844459 0.78127025 0.77543746\n",
      " 0.76053143 0.75923526 0.78127025 0.79196371 0.85871679 0.85158782\n",
      " 0.83797797 0.82598833 0.81464679 0.82663642 0.8250162  0.86714193\n",
      " 0.83214517 0.85320804 0.85158782 0.87297472 0.85320804 0.86033701\n",
      " 0.81659106 0.78321452 0.80395334 0.81529488 0.8139987  0.79390797\n",
      " 0.79455606 0.80719378 0.80751782 0.81594297 0.79423202 0.78353856\n",
      " 0.786779   0.77122489 0.77965003 0.79941672 0.7757615  0.77802981\n",
      " 0.7624757  0.73525599 0.74400518 0.73914452 0.7184057  0.7184057\n",
      " 0.69313027 0.65456902 0.65748542 0.67174336 0.6367466  0.65392093\n",
      " 0.65716137 0.69248218 0.6860013  0.67660402 0.65424498 0.63285807\n",
      " 0.62832145 0.63480233 0.65554115 0.62896954 0.65230071 0.65489307\n",
      " 0.63771873 0.63188594 0.64873623 0.66202203 0.65748542 0.66979909\n",
      " 0.67012314 0.68632534 0.67822424 0.69896306 0.68664938 0.6882696\n",
      " 0.72456254 0.74141283 0.75567077 0.72326636 0.72099806 0.72845107\n",
      " 0.74594945 0.74368114 0.72290659 0.71863669 0.71079421 0.70327371\n",
      " 0.69697797 0.6919567  0.68801141 0.68483531]\n"
     ]
    },
    {
     "name": "stdout",
     "output_type": "stream",
     "text": [
      "8 day output [[0.6820898]]\n",
      "9 day input [0.75113415 0.74692158 0.73039533 0.74011666 0.76928062 0.77478937\n",
      " 0.79552819 0.78127025 0.79844459 0.78127025 0.77543746 0.76053143\n",
      " 0.75923526 0.78127025 0.79196371 0.85871679 0.85158782 0.83797797\n",
      " 0.82598833 0.81464679 0.82663642 0.8250162  0.86714193 0.83214517\n",
      " 0.85320804 0.85158782 0.87297472 0.85320804 0.86033701 0.81659106\n",
      " 0.78321452 0.80395334 0.81529488 0.8139987  0.79390797 0.79455606\n",
      " 0.80719378 0.80751782 0.81594297 0.79423202 0.78353856 0.786779\n",
      " 0.77122489 0.77965003 0.79941672 0.7757615  0.77802981 0.7624757\n",
      " 0.73525599 0.74400518 0.73914452 0.7184057  0.7184057  0.69313027\n",
      " 0.65456902 0.65748542 0.67174336 0.6367466  0.65392093 0.65716137\n",
      " 0.69248218 0.6860013  0.67660402 0.65424498 0.63285807 0.62832145\n",
      " 0.63480233 0.65554115 0.62896954 0.65230071 0.65489307 0.63771873\n",
      " 0.63188594 0.64873623 0.66202203 0.65748542 0.66979909 0.67012314\n",
      " 0.68632534 0.67822424 0.69896306 0.68664938 0.6882696  0.72456254\n",
      " 0.74141283 0.75567077 0.72326636 0.72099806 0.72845107 0.74594945\n",
      " 0.74368114 0.72290659 0.71863669 0.71079421 0.70327371 0.69697797\n",
      " 0.6919567  0.68801141 0.68483531 0.68208981]\n",
      "9 day output [[0.67946583]]\n",
      "10 day input [0.74692158 0.73039533 0.74011666 0.76928062 0.77478937 0.79552819\n",
      " 0.78127025 0.79844459 0.78127025 0.77543746 0.76053143 0.75923526\n",
      " 0.78127025 0.79196371 0.85871679 0.85158782 0.83797797 0.82598833\n",
      " 0.81464679 0.82663642 0.8250162  0.86714193 0.83214517 0.85320804\n",
      " 0.85158782 0.87297472 0.85320804 0.86033701 0.81659106 0.78321452\n",
      " 0.80395334 0.81529488 0.8139987  0.79390797 0.79455606 0.80719378\n",
      " 0.80751782 0.81594297 0.79423202 0.78353856 0.786779   0.77122489\n",
      " 0.77965003 0.79941672 0.7757615  0.77802981 0.7624757  0.73525599\n",
      " 0.74400518 0.73914452 0.7184057  0.7184057  0.69313027 0.65456902\n",
      " 0.65748542 0.67174336 0.6367466  0.65392093 0.65716137 0.69248218\n",
      " 0.6860013  0.67660402 0.65424498 0.63285807 0.62832145 0.63480233\n",
      " 0.65554115 0.62896954 0.65230071 0.65489307 0.63771873 0.63188594\n",
      " 0.64873623 0.66202203 0.65748542 0.66979909 0.67012314 0.68632534\n",
      " 0.67822424 0.69896306 0.68664938 0.6882696  0.72456254 0.74141283\n",
      " 0.75567077 0.72326636 0.72099806 0.72845107 0.74594945 0.74368114\n",
      " 0.72290659 0.71863669 0.71079421 0.70327371 0.69697797 0.6919567\n",
      " 0.68801141 0.68483531 0.68208981 0.67946583]\n",
      "10 day output [[0.676724]]\n",
      "11 day input [0.73039533 0.74011666 0.76928062 0.77478937 0.79552819 0.78127025\n",
      " 0.79844459 0.78127025 0.77543746 0.76053143 0.75923526 0.78127025\n",
      " 0.79196371 0.85871679 0.85158782 0.83797797 0.82598833 0.81464679\n",
      " 0.82663642 0.8250162  0.86714193 0.83214517 0.85320804 0.85158782\n",
      " 0.87297472 0.85320804 0.86033701 0.81659106 0.78321452 0.80395334\n",
      " 0.81529488 0.8139987  0.79390797 0.79455606 0.80719378 0.80751782\n",
      " 0.81594297 0.79423202 0.78353856 0.786779   0.77122489 0.77965003\n",
      " 0.79941672 0.7757615  0.77802981 0.7624757  0.73525599 0.74400518\n",
      " 0.73914452 0.7184057  0.7184057  0.69313027 0.65456902 0.65748542\n",
      " 0.67174336 0.6367466  0.65392093 0.65716137 0.69248218 0.6860013\n",
      " 0.67660402 0.65424498 0.63285807 0.62832145 0.63480233 0.65554115\n",
      " 0.62896954 0.65230071 0.65489307 0.63771873 0.63188594 0.64873623\n",
      " 0.66202203 0.65748542 0.66979909 0.67012314 0.68632534 0.67822424\n",
      " 0.69896306 0.68664938 0.6882696  0.72456254 0.74141283 0.75567077\n",
      " 0.72326636 0.72099806 0.72845107 0.74594945 0.74368114 0.72290659\n",
      " 0.71863669 0.71079421 0.70327371 0.69697797 0.6919567  0.68801141\n",
      " 0.68483531 0.68208981 0.67946583 0.67672402]\n",
      "11 day output [[0.6737148]]\n",
      "12 day input [0.74011666 0.76928062 0.77478937 0.79552819 0.78127025 0.79844459\n",
      " 0.78127025 0.77543746 0.76053143 0.75923526 0.78127025 0.79196371\n",
      " 0.85871679 0.85158782 0.83797797 0.82598833 0.81464679 0.82663642\n",
      " 0.8250162  0.86714193 0.83214517 0.85320804 0.85158782 0.87297472\n",
      " 0.85320804 0.86033701 0.81659106 0.78321452 0.80395334 0.81529488\n",
      " 0.8139987  0.79390797 0.79455606 0.80719378 0.80751782 0.81594297\n",
      " 0.79423202 0.78353856 0.786779   0.77122489 0.77965003 0.79941672\n",
      " 0.7757615  0.77802981 0.7624757  0.73525599 0.74400518 0.73914452\n",
      " 0.7184057  0.7184057  0.69313027 0.65456902 0.65748542 0.67174336\n",
      " 0.6367466  0.65392093 0.65716137 0.69248218 0.6860013  0.67660402\n",
      " 0.65424498 0.63285807 0.62832145 0.63480233 0.65554115 0.62896954\n",
      " 0.65230071 0.65489307 0.63771873 0.63188594 0.64873623 0.66202203\n",
      " 0.65748542 0.66979909 0.67012314 0.68632534 0.67822424 0.69896306\n",
      " 0.68664938 0.6882696  0.72456254 0.74141283 0.75567077 0.72326636\n",
      " 0.72099806 0.72845107 0.74594945 0.74368114 0.72290659 0.71863669\n",
      " 0.71079421 0.70327371 0.69697797 0.6919567  0.68801141 0.68483531\n",
      " 0.68208981 0.67946583 0.67672402 0.67371482]\n",
      "12 day output [[0.67037934]]\n",
      "13 day input [0.76928062 0.77478937 0.79552819 0.78127025 0.79844459 0.78127025\n",
      " 0.77543746 0.76053143 0.75923526 0.78127025 0.79196371 0.85871679\n",
      " 0.85158782 0.83797797 0.82598833 0.81464679 0.82663642 0.8250162\n",
      " 0.86714193 0.83214517 0.85320804 0.85158782 0.87297472 0.85320804\n",
      " 0.86033701 0.81659106 0.78321452 0.80395334 0.81529488 0.8139987\n",
      " 0.79390797 0.79455606 0.80719378 0.80751782 0.81594297 0.79423202\n",
      " 0.78353856 0.786779   0.77122489 0.77965003 0.79941672 0.7757615\n",
      " 0.77802981 0.7624757  0.73525599 0.74400518 0.73914452 0.7184057\n",
      " 0.7184057  0.69313027 0.65456902 0.65748542 0.67174336 0.6367466\n",
      " 0.65392093 0.65716137 0.69248218 0.6860013  0.67660402 0.65424498\n",
      " 0.63285807 0.62832145 0.63480233 0.65554115 0.62896954 0.65230071\n",
      " 0.65489307 0.63771873 0.63188594 0.64873623 0.66202203 0.65748542\n",
      " 0.66979909 0.67012314 0.68632534 0.67822424 0.69896306 0.68664938\n",
      " 0.6882696  0.72456254 0.74141283 0.75567077 0.72326636 0.72099806\n",
      " 0.72845107 0.74594945 0.74368114 0.72290659 0.71863669 0.71079421\n",
      " 0.70327371 0.69697797 0.6919567  0.68801141 0.68483531 0.68208981\n",
      " 0.67946583 0.67672402 0.67371482 0.67037934]\n",
      "13 day output [[0.6667343]]\n",
      "14 day input [0.77478937 0.79552819 0.78127025 0.79844459 0.78127025 0.77543746\n",
      " 0.76053143 0.75923526 0.78127025 0.79196371 0.85871679 0.85158782\n",
      " 0.83797797 0.82598833 0.81464679 0.82663642 0.8250162  0.86714193\n",
      " 0.83214517 0.85320804 0.85158782 0.87297472 0.85320804 0.86033701\n",
      " 0.81659106 0.78321452 0.80395334 0.81529488 0.8139987  0.79390797\n",
      " 0.79455606 0.80719378 0.80751782 0.81594297 0.79423202 0.78353856\n",
      " 0.786779   0.77122489 0.77965003 0.79941672 0.7757615  0.77802981\n",
      " 0.7624757  0.73525599 0.74400518 0.73914452 0.7184057  0.7184057\n",
      " 0.69313027 0.65456902 0.65748542 0.67174336 0.6367466  0.65392093\n",
      " 0.65716137 0.69248218 0.6860013  0.67660402 0.65424498 0.63285807\n",
      " 0.62832145 0.63480233 0.65554115 0.62896954 0.65230071 0.65489307\n",
      " 0.63771873 0.63188594 0.64873623 0.66202203 0.65748542 0.66979909\n",
      " 0.67012314 0.68632534 0.67822424 0.69896306 0.68664938 0.6882696\n",
      " 0.72456254 0.74141283 0.75567077 0.72326636 0.72099806 0.72845107\n",
      " 0.74594945 0.74368114 0.72290659 0.71863669 0.71079421 0.70327371\n",
      " 0.69697797 0.6919567  0.68801141 0.68483531 0.68208981 0.67946583\n",
      " 0.67672402 0.67371482 0.67037934 0.66673428]\n",
      "14 day output [[0.6628501]]\n",
      "15 day input [0.79552819 0.78127025 0.79844459 0.78127025 0.77543746 0.76053143\n",
      " 0.75923526 0.78127025 0.79196371 0.85871679 0.85158782 0.83797797\n",
      " 0.82598833 0.81464679 0.82663642 0.8250162  0.86714193 0.83214517\n",
      " 0.85320804 0.85158782 0.87297472 0.85320804 0.86033701 0.81659106\n",
      " 0.78321452 0.80395334 0.81529488 0.8139987  0.79390797 0.79455606\n",
      " 0.80719378 0.80751782 0.81594297 0.79423202 0.78353856 0.786779\n",
      " 0.77122489 0.77965003 0.79941672 0.7757615  0.77802981 0.7624757\n",
      " 0.73525599 0.74400518 0.73914452 0.7184057  0.7184057  0.69313027\n",
      " 0.65456902 0.65748542 0.67174336 0.6367466  0.65392093 0.65716137\n",
      " 0.69248218 0.6860013  0.67660402 0.65424498 0.63285807 0.62832145\n",
      " 0.63480233 0.65554115 0.62896954 0.65230071 0.65489307 0.63771873\n",
      " 0.63188594 0.64873623 0.66202203 0.65748542 0.66979909 0.67012314\n",
      " 0.68632534 0.67822424 0.69896306 0.68664938 0.6882696  0.72456254\n",
      " 0.74141283 0.75567077 0.72326636 0.72099806 0.72845107 0.74594945\n",
      " 0.74368114 0.72290659 0.71863669 0.71079421 0.70327371 0.69697797\n",
      " 0.6919567  0.68801141 0.68483531 0.68208981 0.67946583 0.67672402\n",
      " 0.67371482 0.67037934 0.66673428 0.66285008]\n",
      "15 day output [[0.6588272]]\n",
      "16 day input [0.78127025 0.79844459 0.78127025 0.77543746 0.76053143 0.75923526\n",
      " 0.78127025 0.79196371 0.85871679 0.85158782 0.83797797 0.82598833\n",
      " 0.81464679 0.82663642 0.8250162  0.86714193 0.83214517 0.85320804\n",
      " 0.85158782 0.87297472 0.85320804 0.86033701 0.81659106 0.78321452\n",
      " 0.80395334 0.81529488 0.8139987  0.79390797 0.79455606 0.80719378\n",
      " 0.80751782 0.81594297 0.79423202 0.78353856 0.786779   0.77122489\n",
      " 0.77965003 0.79941672 0.7757615  0.77802981 0.7624757  0.73525599\n",
      " 0.74400518 0.73914452 0.7184057  0.7184057  0.69313027 0.65456902\n",
      " 0.65748542 0.67174336 0.6367466  0.65392093 0.65716137 0.69248218\n",
      " 0.6860013  0.67660402 0.65424498 0.63285807 0.62832145 0.63480233\n",
      " 0.65554115 0.62896954 0.65230071 0.65489307 0.63771873 0.63188594\n",
      " 0.64873623 0.66202203 0.65748542 0.66979909 0.67012314 0.68632534\n",
      " 0.67822424 0.69896306 0.68664938 0.6882696  0.72456254 0.74141283\n",
      " 0.75567077 0.72326636 0.72099806 0.72845107 0.74594945 0.74368114\n",
      " 0.72290659 0.71863669 0.71079421 0.70327371 0.69697797 0.6919567\n",
      " 0.68801141 0.68483531 0.68208981 0.67946583 0.67672402 0.67371482\n",
      " 0.67037934 0.66673428 0.66285008 0.65882719]\n"
     ]
    },
    {
     "name": "stdout",
     "output_type": "stream",
     "text": [
      "16 day output [[0.6547723]]\n",
      "17 day input [0.79844459 0.78127025 0.77543746 0.76053143 0.75923526 0.78127025\n",
      " 0.79196371 0.85871679 0.85158782 0.83797797 0.82598833 0.81464679\n",
      " 0.82663642 0.8250162  0.86714193 0.83214517 0.85320804 0.85158782\n",
      " 0.87297472 0.85320804 0.86033701 0.81659106 0.78321452 0.80395334\n",
      " 0.81529488 0.8139987  0.79390797 0.79455606 0.80719378 0.80751782\n",
      " 0.81594297 0.79423202 0.78353856 0.786779   0.77122489 0.77965003\n",
      " 0.79941672 0.7757615  0.77802981 0.7624757  0.73525599 0.74400518\n",
      " 0.73914452 0.7184057  0.7184057  0.69313027 0.65456902 0.65748542\n",
      " 0.67174336 0.6367466  0.65392093 0.65716137 0.69248218 0.6860013\n",
      " 0.67660402 0.65424498 0.63285807 0.62832145 0.63480233 0.65554115\n",
      " 0.62896954 0.65230071 0.65489307 0.63771873 0.63188594 0.64873623\n",
      " 0.66202203 0.65748542 0.66979909 0.67012314 0.68632534 0.67822424\n",
      " 0.69896306 0.68664938 0.6882696  0.72456254 0.74141283 0.75567077\n",
      " 0.72326636 0.72099806 0.72845107 0.74594945 0.74368114 0.72290659\n",
      " 0.71863669 0.71079421 0.70327371 0.69697797 0.6919567  0.68801141\n",
      " 0.68483531 0.68208981 0.67946583 0.67672402 0.67371482 0.67037934\n",
      " 0.66673428 0.66285008 0.65882719 0.65477228]\n",
      "17 day output [[0.6507802]]\n",
      "18 day input [0.78127025 0.77543746 0.76053143 0.75923526 0.78127025 0.79196371\n",
      " 0.85871679 0.85158782 0.83797797 0.82598833 0.81464679 0.82663642\n",
      " 0.8250162  0.86714193 0.83214517 0.85320804 0.85158782 0.87297472\n",
      " 0.85320804 0.86033701 0.81659106 0.78321452 0.80395334 0.81529488\n",
      " 0.8139987  0.79390797 0.79455606 0.80719378 0.80751782 0.81594297\n",
      " 0.79423202 0.78353856 0.786779   0.77122489 0.77965003 0.79941672\n",
      " 0.7757615  0.77802981 0.7624757  0.73525599 0.74400518 0.73914452\n",
      " 0.7184057  0.7184057  0.69313027 0.65456902 0.65748542 0.67174336\n",
      " 0.6367466  0.65392093 0.65716137 0.69248218 0.6860013  0.67660402\n",
      " 0.65424498 0.63285807 0.62832145 0.63480233 0.65554115 0.62896954\n",
      " 0.65230071 0.65489307 0.63771873 0.63188594 0.64873623 0.66202203\n",
      " 0.65748542 0.66979909 0.67012314 0.68632534 0.67822424 0.69896306\n",
      " 0.68664938 0.6882696  0.72456254 0.74141283 0.75567077 0.72326636\n",
      " 0.72099806 0.72845107 0.74594945 0.74368114 0.72290659 0.71863669\n",
      " 0.71079421 0.70327371 0.69697797 0.6919567  0.68801141 0.68483531\n",
      " 0.68208981 0.67946583 0.67672402 0.67371482 0.67037934 0.66673428\n",
      " 0.66285008 0.65882719 0.65477228 0.6507802 ]\n",
      "18 day output [[0.6469235]]\n",
      "19 day input [0.77543746 0.76053143 0.75923526 0.78127025 0.79196371 0.85871679\n",
      " 0.85158782 0.83797797 0.82598833 0.81464679 0.82663642 0.8250162\n",
      " 0.86714193 0.83214517 0.85320804 0.85158782 0.87297472 0.85320804\n",
      " 0.86033701 0.81659106 0.78321452 0.80395334 0.81529488 0.8139987\n",
      " 0.79390797 0.79455606 0.80719378 0.80751782 0.81594297 0.79423202\n",
      " 0.78353856 0.786779   0.77122489 0.77965003 0.79941672 0.7757615\n",
      " 0.77802981 0.7624757  0.73525599 0.74400518 0.73914452 0.7184057\n",
      " 0.7184057  0.69313027 0.65456902 0.65748542 0.67174336 0.6367466\n",
      " 0.65392093 0.65716137 0.69248218 0.6860013  0.67660402 0.65424498\n",
      " 0.63285807 0.62832145 0.63480233 0.65554115 0.62896954 0.65230071\n",
      " 0.65489307 0.63771873 0.63188594 0.64873623 0.66202203 0.65748542\n",
      " 0.66979909 0.67012314 0.68632534 0.67822424 0.69896306 0.68664938\n",
      " 0.6882696  0.72456254 0.74141283 0.75567077 0.72326636 0.72099806\n",
      " 0.72845107 0.74594945 0.74368114 0.72290659 0.71863669 0.71079421\n",
      " 0.70327371 0.69697797 0.6919567  0.68801141 0.68483531 0.68208981\n",
      " 0.67946583 0.67672402 0.67371482 0.67037934 0.66673428 0.66285008\n",
      " 0.65882719 0.65477228 0.6507802  0.64692348]\n",
      "19 day output [[0.6432461]]\n",
      "20 day input [0.76053143 0.75923526 0.78127025 0.79196371 0.85871679 0.85158782\n",
      " 0.83797797 0.82598833 0.81464679 0.82663642 0.8250162  0.86714193\n",
      " 0.83214517 0.85320804 0.85158782 0.87297472 0.85320804 0.86033701\n",
      " 0.81659106 0.78321452 0.80395334 0.81529488 0.8139987  0.79390797\n",
      " 0.79455606 0.80719378 0.80751782 0.81594297 0.79423202 0.78353856\n",
      " 0.786779   0.77122489 0.77965003 0.79941672 0.7757615  0.77802981\n",
      " 0.7624757  0.73525599 0.74400518 0.73914452 0.7184057  0.7184057\n",
      " 0.69313027 0.65456902 0.65748542 0.67174336 0.6367466  0.65392093\n",
      " 0.65716137 0.69248218 0.6860013  0.67660402 0.65424498 0.63285807\n",
      " 0.62832145 0.63480233 0.65554115 0.62896954 0.65230071 0.65489307\n",
      " 0.63771873 0.63188594 0.64873623 0.66202203 0.65748542 0.66979909\n",
      " 0.67012314 0.68632534 0.67822424 0.69896306 0.68664938 0.6882696\n",
      " 0.72456254 0.74141283 0.75567077 0.72326636 0.72099806 0.72845107\n",
      " 0.74594945 0.74368114 0.72290659 0.71863669 0.71079421 0.70327371\n",
      " 0.69697797 0.6919567  0.68801141 0.68483531 0.68208981 0.67946583\n",
      " 0.67672402 0.67371482 0.67037934 0.66673428 0.66285008 0.65882719\n",
      " 0.65477228 0.6507802  0.64692348 0.64324611]\n",
      "20 day output [[0.6397653]]\n",
      "21 day input [0.75923526 0.78127025 0.79196371 0.85871679 0.85158782 0.83797797\n",
      " 0.82598833 0.81464679 0.82663642 0.8250162  0.86714193 0.83214517\n",
      " 0.85320804 0.85158782 0.87297472 0.85320804 0.86033701 0.81659106\n",
      " 0.78321452 0.80395334 0.81529488 0.8139987  0.79390797 0.79455606\n",
      " 0.80719378 0.80751782 0.81594297 0.79423202 0.78353856 0.786779\n",
      " 0.77122489 0.77965003 0.79941672 0.7757615  0.77802981 0.7624757\n",
      " 0.73525599 0.74400518 0.73914452 0.7184057  0.7184057  0.69313027\n",
      " 0.65456902 0.65748542 0.67174336 0.6367466  0.65392093 0.65716137\n",
      " 0.69248218 0.6860013  0.67660402 0.65424498 0.63285807 0.62832145\n",
      " 0.63480233 0.65554115 0.62896954 0.65230071 0.65489307 0.63771873\n",
      " 0.63188594 0.64873623 0.66202203 0.65748542 0.66979909 0.67012314\n",
      " 0.68632534 0.67822424 0.69896306 0.68664938 0.6882696  0.72456254\n",
      " 0.74141283 0.75567077 0.72326636 0.72099806 0.72845107 0.74594945\n",
      " 0.74368114 0.72290659 0.71863669 0.71079421 0.70327371 0.69697797\n",
      " 0.6919567  0.68801141 0.68483531 0.68208981 0.67946583 0.67672402\n",
      " 0.67371482 0.67037934 0.66673428 0.66285008 0.65882719 0.65477228\n",
      " 0.6507802  0.64692348 0.64324611 0.63976532]\n",
      "21 day output [[0.6364755]]\n",
      "22 day input [0.78127025 0.79196371 0.85871679 0.85158782 0.83797797 0.82598833\n",
      " 0.81464679 0.82663642 0.8250162  0.86714193 0.83214517 0.85320804\n",
      " 0.85158782 0.87297472 0.85320804 0.86033701 0.81659106 0.78321452\n",
      " 0.80395334 0.81529488 0.8139987  0.79390797 0.79455606 0.80719378\n",
      " 0.80751782 0.81594297 0.79423202 0.78353856 0.786779   0.77122489\n",
      " 0.77965003 0.79941672 0.7757615  0.77802981 0.7624757  0.73525599\n",
      " 0.74400518 0.73914452 0.7184057  0.7184057  0.69313027 0.65456902\n",
      " 0.65748542 0.67174336 0.6367466  0.65392093 0.65716137 0.69248218\n",
      " 0.6860013  0.67660402 0.65424498 0.63285807 0.62832145 0.63480233\n",
      " 0.65554115 0.62896954 0.65230071 0.65489307 0.63771873 0.63188594\n",
      " 0.64873623 0.66202203 0.65748542 0.66979909 0.67012314 0.68632534\n",
      " 0.67822424 0.69896306 0.68664938 0.6882696  0.72456254 0.74141283\n",
      " 0.75567077 0.72326636 0.72099806 0.72845107 0.74594945 0.74368114\n",
      " 0.72290659 0.71863669 0.71079421 0.70327371 0.69697797 0.6919567\n",
      " 0.68801141 0.68483531 0.68208981 0.67946583 0.67672402 0.67371482\n",
      " 0.67037934 0.66673428 0.66285008 0.65882719 0.65477228 0.6507802\n",
      " 0.64692348 0.64324611 0.63976532 0.6364755 ]\n",
      "22 day output [[0.63335484]]\n",
      "23 day input [0.79196371 0.85871679 0.85158782 0.83797797 0.82598833 0.81464679\n",
      " 0.82663642 0.8250162  0.86714193 0.83214517 0.85320804 0.85158782\n",
      " 0.87297472 0.85320804 0.86033701 0.81659106 0.78321452 0.80395334\n",
      " 0.81529488 0.8139987  0.79390797 0.79455606 0.80719378 0.80751782\n",
      " 0.81594297 0.79423202 0.78353856 0.786779   0.77122489 0.77965003\n",
      " 0.79941672 0.7757615  0.77802981 0.7624757  0.73525599 0.74400518\n",
      " 0.73914452 0.7184057  0.7184057  0.69313027 0.65456902 0.65748542\n",
      " 0.67174336 0.6367466  0.65392093 0.65716137 0.69248218 0.6860013\n",
      " 0.67660402 0.65424498 0.63285807 0.62832145 0.63480233 0.65554115\n",
      " 0.62896954 0.65230071 0.65489307 0.63771873 0.63188594 0.64873623\n",
      " 0.66202203 0.65748542 0.66979909 0.67012314 0.68632534 0.67822424\n",
      " 0.69896306 0.68664938 0.6882696  0.72456254 0.74141283 0.75567077\n",
      " 0.72326636 0.72099806 0.72845107 0.74594945 0.74368114 0.72290659\n",
      " 0.71863669 0.71079421 0.70327371 0.69697797 0.6919567  0.68801141\n",
      " 0.68483531 0.68208981 0.67946583 0.67672402 0.67371482 0.67037934\n",
      " 0.66673428 0.66285008 0.65882719 0.65477228 0.6507802  0.64692348\n",
      " 0.64324611 0.63976532 0.6364755  0.63335484]\n",
      "23 day output [[0.6303733]]\n",
      "24 day input [0.85871679 0.85158782 0.83797797 0.82598833 0.81464679 0.82663642\n",
      " 0.8250162  0.86714193 0.83214517 0.85320804 0.85158782 0.87297472\n",
      " 0.85320804 0.86033701 0.81659106 0.78321452 0.80395334 0.81529488\n",
      " 0.8139987  0.79390797 0.79455606 0.80719378 0.80751782 0.81594297\n",
      " 0.79423202 0.78353856 0.786779   0.77122489 0.77965003 0.79941672\n",
      " 0.7757615  0.77802981 0.7624757  0.73525599 0.74400518 0.73914452\n",
      " 0.7184057  0.7184057  0.69313027 0.65456902 0.65748542 0.67174336\n",
      " 0.6367466  0.65392093 0.65716137 0.69248218 0.6860013  0.67660402\n",
      " 0.65424498 0.63285807 0.62832145 0.63480233 0.65554115 0.62896954\n",
      " 0.65230071 0.65489307 0.63771873 0.63188594 0.64873623 0.66202203\n",
      " 0.65748542 0.66979909 0.67012314 0.68632534 0.67822424 0.69896306\n",
      " 0.68664938 0.6882696  0.72456254 0.74141283 0.75567077 0.72326636\n",
      " 0.72099806 0.72845107 0.74594945 0.74368114 0.72290659 0.71863669\n",
      " 0.71079421 0.70327371 0.69697797 0.6919567  0.68801141 0.68483531\n",
      " 0.68208981 0.67946583 0.67672402 0.67371482 0.67037934 0.66673428\n",
      " 0.66285008 0.65882719 0.65477228 0.6507802  0.64692348 0.64324611\n",
      " 0.63976532 0.6364755  0.63335484 0.6303733 ]\n"
     ]
    },
    {
     "name": "stdout",
     "output_type": "stream",
     "text": [
      "24 day output [[0.62749845]]\n",
      "25 day input [0.85158782 0.83797797 0.82598833 0.81464679 0.82663642 0.8250162\n",
      " 0.86714193 0.83214517 0.85320804 0.85158782 0.87297472 0.85320804\n",
      " 0.86033701 0.81659106 0.78321452 0.80395334 0.81529488 0.8139987\n",
      " 0.79390797 0.79455606 0.80719378 0.80751782 0.81594297 0.79423202\n",
      " 0.78353856 0.786779   0.77122489 0.77965003 0.79941672 0.7757615\n",
      " 0.77802981 0.7624757  0.73525599 0.74400518 0.73914452 0.7184057\n",
      " 0.7184057  0.69313027 0.65456902 0.65748542 0.67174336 0.6367466\n",
      " 0.65392093 0.65716137 0.69248218 0.6860013  0.67660402 0.65424498\n",
      " 0.63285807 0.62832145 0.63480233 0.65554115 0.62896954 0.65230071\n",
      " 0.65489307 0.63771873 0.63188594 0.64873623 0.66202203 0.65748542\n",
      " 0.66979909 0.67012314 0.68632534 0.67822424 0.69896306 0.68664938\n",
      " 0.6882696  0.72456254 0.74141283 0.75567077 0.72326636 0.72099806\n",
      " 0.72845107 0.74594945 0.74368114 0.72290659 0.71863669 0.71079421\n",
      " 0.70327371 0.69697797 0.6919567  0.68801141 0.68483531 0.68208981\n",
      " 0.67946583 0.67672402 0.67371482 0.67037934 0.66673428 0.66285008\n",
      " 0.65882719 0.65477228 0.6507802  0.64692348 0.64324611 0.63976532\n",
      " 0.6364755  0.63335484 0.6303733  0.62749845]\n",
      "25 day output [[0.6247011]]\n",
      "26 day input [0.83797797 0.82598833 0.81464679 0.82663642 0.8250162  0.86714193\n",
      " 0.83214517 0.85320804 0.85158782 0.87297472 0.85320804 0.86033701\n",
      " 0.81659106 0.78321452 0.80395334 0.81529488 0.8139987  0.79390797\n",
      " 0.79455606 0.80719378 0.80751782 0.81594297 0.79423202 0.78353856\n",
      " 0.786779   0.77122489 0.77965003 0.79941672 0.7757615  0.77802981\n",
      " 0.7624757  0.73525599 0.74400518 0.73914452 0.7184057  0.7184057\n",
      " 0.69313027 0.65456902 0.65748542 0.67174336 0.6367466  0.65392093\n",
      " 0.65716137 0.69248218 0.6860013  0.67660402 0.65424498 0.63285807\n",
      " 0.62832145 0.63480233 0.65554115 0.62896954 0.65230071 0.65489307\n",
      " 0.63771873 0.63188594 0.64873623 0.66202203 0.65748542 0.66979909\n",
      " 0.67012314 0.68632534 0.67822424 0.69896306 0.68664938 0.6882696\n",
      " 0.72456254 0.74141283 0.75567077 0.72326636 0.72099806 0.72845107\n",
      " 0.74594945 0.74368114 0.72290659 0.71863669 0.71079421 0.70327371\n",
      " 0.69697797 0.6919567  0.68801141 0.68483531 0.68208981 0.67946583\n",
      " 0.67672402 0.67371482 0.67037934 0.66673428 0.66285008 0.65882719\n",
      " 0.65477228 0.6507802  0.64692348 0.64324611 0.63976532 0.6364755\n",
      " 0.63335484 0.6303733  0.62749845 0.62470108]\n",
      "26 day output [[0.62195754]]\n",
      "27 day input [0.82598833 0.81464679 0.82663642 0.8250162  0.86714193 0.83214517\n",
      " 0.85320804 0.85158782 0.87297472 0.85320804 0.86033701 0.81659106\n",
      " 0.78321452 0.80395334 0.81529488 0.8139987  0.79390797 0.79455606\n",
      " 0.80719378 0.80751782 0.81594297 0.79423202 0.78353856 0.786779\n",
      " 0.77122489 0.77965003 0.79941672 0.7757615  0.77802981 0.7624757\n",
      " 0.73525599 0.74400518 0.73914452 0.7184057  0.7184057  0.69313027\n",
      " 0.65456902 0.65748542 0.67174336 0.6367466  0.65392093 0.65716137\n",
      " 0.69248218 0.6860013  0.67660402 0.65424498 0.63285807 0.62832145\n",
      " 0.63480233 0.65554115 0.62896954 0.65230071 0.65489307 0.63771873\n",
      " 0.63188594 0.64873623 0.66202203 0.65748542 0.66979909 0.67012314\n",
      " 0.68632534 0.67822424 0.69896306 0.68664938 0.6882696  0.72456254\n",
      " 0.74141283 0.75567077 0.72326636 0.72099806 0.72845107 0.74594945\n",
      " 0.74368114 0.72290659 0.71863669 0.71079421 0.70327371 0.69697797\n",
      " 0.6919567  0.68801141 0.68483531 0.68208981 0.67946583 0.67672402\n",
      " 0.67371482 0.67037934 0.66673428 0.66285008 0.65882719 0.65477228\n",
      " 0.6507802  0.64692348 0.64324611 0.63976532 0.6364755  0.63335484\n",
      " 0.6303733  0.62749845 0.62470108 0.62195754]\n",
      "27 day output [[0.61925274]]\n",
      "28 day input [0.81464679 0.82663642 0.8250162  0.86714193 0.83214517 0.85320804\n",
      " 0.85158782 0.87297472 0.85320804 0.86033701 0.81659106 0.78321452\n",
      " 0.80395334 0.81529488 0.8139987  0.79390797 0.79455606 0.80719378\n",
      " 0.80751782 0.81594297 0.79423202 0.78353856 0.786779   0.77122489\n",
      " 0.77965003 0.79941672 0.7757615  0.77802981 0.7624757  0.73525599\n",
      " 0.74400518 0.73914452 0.7184057  0.7184057  0.69313027 0.65456902\n",
      " 0.65748542 0.67174336 0.6367466  0.65392093 0.65716137 0.69248218\n",
      " 0.6860013  0.67660402 0.65424498 0.63285807 0.62832145 0.63480233\n",
      " 0.65554115 0.62896954 0.65230071 0.65489307 0.63771873 0.63188594\n",
      " 0.64873623 0.66202203 0.65748542 0.66979909 0.67012314 0.68632534\n",
      " 0.67822424 0.69896306 0.68664938 0.6882696  0.72456254 0.74141283\n",
      " 0.75567077 0.72326636 0.72099806 0.72845107 0.74594945 0.74368114\n",
      " 0.72290659 0.71863669 0.71079421 0.70327371 0.69697797 0.6919567\n",
      " 0.68801141 0.68483531 0.68208981 0.67946583 0.67672402 0.67371482\n",
      " 0.67037934 0.66673428 0.66285008 0.65882719 0.65477228 0.6507802\n",
      " 0.64692348 0.64324611 0.63976532 0.6364755  0.63335484 0.6303733\n",
      " 0.62749845 0.62470108 0.62195754 0.61925274]\n",
      "28 day output [[0.61657906]]\n",
      "29 day input [0.82663642 0.8250162  0.86714193 0.83214517 0.85320804 0.85158782\n",
      " 0.87297472 0.85320804 0.86033701 0.81659106 0.78321452 0.80395334\n",
      " 0.81529488 0.8139987  0.79390797 0.79455606 0.80719378 0.80751782\n",
      " 0.81594297 0.79423202 0.78353856 0.786779   0.77122489 0.77965003\n",
      " 0.79941672 0.7757615  0.77802981 0.7624757  0.73525599 0.74400518\n",
      " 0.73914452 0.7184057  0.7184057  0.69313027 0.65456902 0.65748542\n",
      " 0.67174336 0.6367466  0.65392093 0.65716137 0.69248218 0.6860013\n",
      " 0.67660402 0.65424498 0.63285807 0.62832145 0.63480233 0.65554115\n",
      " 0.62896954 0.65230071 0.65489307 0.63771873 0.63188594 0.64873623\n",
      " 0.66202203 0.65748542 0.66979909 0.67012314 0.68632534 0.67822424\n",
      " 0.69896306 0.68664938 0.6882696  0.72456254 0.74141283 0.75567077\n",
      " 0.72326636 0.72099806 0.72845107 0.74594945 0.74368114 0.72290659\n",
      " 0.71863669 0.71079421 0.70327371 0.69697797 0.6919567  0.68801141\n",
      " 0.68483531 0.68208981 0.67946583 0.67672402 0.67371482 0.67037934\n",
      " 0.66673428 0.66285008 0.65882719 0.65477228 0.6507802  0.64692348\n",
      " 0.64324611 0.63976532 0.6364755  0.63335484 0.6303733  0.62749845\n",
      " 0.62470108 0.62195754 0.61925274 0.61657906]\n",
      "29 day output [[0.6139353]]\n",
      "[[0.7229065895080566], [0.718636691570282], [0.71079421043396], [0.7032737135887146], [0.696977972984314], [0.6919566988945007], [0.6880114078521729], [0.6848353147506714], [0.6820898056030273], [0.6794658303260803], [0.6767240166664124], [0.673714816570282], [0.6703793406486511], [0.6667342782020569], [0.6628500819206238], [0.6588271856307983], [0.6547722816467285], [0.650780200958252], [0.6469234824180603], [0.6432461142539978], [0.6397653222084045], [0.6364755034446716], [0.6333548426628113], [0.6303732991218567], [0.62749844789505], [0.6247010827064514], [0.621957540512085], [0.6192527413368225], [0.6165790557861328], [0.6139352917671204]]\n"
     ]
    }
   ],
   "source": [
    "from numpy import array\n",
    "\n",
    "list_output = []\n",
    "n_steps = 100\n",
    "i = 0\n",
    "while(i<30):\n",
    "    if(len(temp_input)>100):\n",
    "        x_input = np.array(temp_input[1:])           \n",
    "        print(\"{} day input {}\".format(i, x_input))\n",
    "        x_input = x_input.reshape(1,-1)\n",
    "        x_input = x_input.reshape((1, n_steps, 1))\n",
    "        y_hat = model.predict(x_input, verbose = 0)  \n",
    "        print(\"{} day output {}\".format(i, y_hat))\n",
    "        temp_input.extend(y_hat[0].tolist())\n",
    "        temp_input = temp_input[1: ]                 \n",
    "        list_output.extend(y_hat.tolist())\n",
    "        i = i+1\n",
    "    else:\n",
    "        x_input = x_input.reshape((1, n_steps, 1))\n",
    "        y_hat = model.predict(x_input, verbose = 0)  \n",
    "        print(y_hat[0])\n",
    "        temp_input.extend(y_hat[0].tolist())\n",
    "        print(len(temp_input))\n",
    "        list_output.extend(y_hat.tolist())\n",
    "        i = i+1\n",
    "print(list_output)"
   ]
  },
  {
   "cell_type": "code",
   "execution_count": 43,
   "id": "ada99fc8",
   "metadata": {},
   "outputs": [
    {
     "data": {
      "text/plain": [
       "30"
      ]
     },
     "execution_count": 43,
     "metadata": {},
     "output_type": "execute_result"
    }
   ],
   "source": [
    "len(list_output)"
   ]
  },
  {
   "cell_type": "code",
   "execution_count": 44,
   "id": "c7dbbaa1",
   "metadata": {},
   "outputs": [],
   "source": [
    "day_new = np.arange(1,101)\n",
    "day_pred = np.arange(101,131)"
   ]
  },
  {
   "cell_type": "code",
   "execution_count": 45,
   "id": "3e608680",
   "metadata": {},
   "outputs": [
    {
     "data": {
      "text/plain": [
       "[<matplotlib.lines.Line2D at 0x11ad9b6d4f0>]"
      ]
     },
     "execution_count": 45,
     "metadata": {},
     "output_type": "execute_result"
    },
    {
     "data": {
      "image/png": "[encoded data removed]",
      "text/plain": [
       "<Figure size 640x480 with 1 Axes>"
      ]
     },
     "metadata": {},
     "output_type": "display_data"
    }
   ],
   "source": [
    "plt.plot(day_new, scaler.inverse_transform (df4[len(df4)-n_steps:]))\n",
    "plt.plot(day_pred, scaler.inverse_transform(list_output))"
   ]
  },
  {
   "cell_type": "code",
   "execution_count": 69,
   "id": "8320d49b",
   "metadata": {},
   "outputs": [
    {
     "data": {
      "text/plain": [
       "Text(0.5, 1.0, 'Tata Motors Stock Graph')"
      ]
     },
     "execution_count": 69,
     "metadata": {},
     "output_type": "execute_result"
    },
    {
     "data": {
      "image/png": "[encoded data removed]",
      "text/plain": [
       "<Figure size 640x480 with 1 Axes>"
      ]
     },
     "metadata": {},
     "output_type": "display_data"
    }
   ],
   "source": [
    "df5 = df4.tolist()\n",
    "df5.extend((list_output))\n",
    "df6 = scaler.inverse_transform(df5)\n",
    "plt.plot(df6[1000:])\n",
    "# 1257-1000=257;   len(df4)=1257\n",
    "plt.xlabel(\"Last 257 Days and 100 future days\")\n",
    "plt.ylabel(\"Stock Price in Rs.\")\n",
    "plt.title(\"Tata Motors Stock Graph\")"
   ]
  },
  {
   "cell_type": "code",
   "execution_count": null,
   "id": "cab6e208",
   "metadata": {},
   "outputs": [],
   "source": []
  },
  {
   "cell_type": "code",
   "execution_count": null,
   "id": "a850eabb",
   "metadata": {},
   "outputs": [],
   "source": []
  }
 ],
 "metadata": {
  "kernelspec": {
   "display_name": "Python 3 (ipykernel)",
   "language": "python",
   "name": "python3"
  },
  "language_info": {
   "codemirror_mode": {
    "name": "ipython",
    "version": 3
   },
   "file_extension": ".py",
   "mimetype": "text/x-python",
   "name": "python",
   "nbconvert_exporter": "python",
   "pygments_lexer": "ipython3",
   "version": "3.9.13"
  }
 },
 "nbformat": 4,
 "nbformat_minor": 5
}
